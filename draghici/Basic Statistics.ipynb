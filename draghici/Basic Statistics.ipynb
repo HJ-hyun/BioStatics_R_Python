{
 "cells": [
  {
   "cell_type": "markdown",
   "metadata": {},
   "source": [
    "<font size=\"5\">Basic Statistic</font>"
   ]
  },
  {
   "cell_type": "code",
   "execution_count": 1,
   "metadata": {},
   "outputs": [],
   "source": [
    "import pandas as pd\n",
    "import numpy as np"
   ]
  },
  {
   "cell_type": "code",
   "execution_count": 45,
   "metadata": {},
   "outputs": [],
   "source": [
    "df = pd.read_table('outputfile.txt', delimiter=' ')"
   ]
  },
  {
   "cell_type": "code",
   "execution_count": 46,
   "metadata": {},
   "outputs": [
    {
     "data": {
      "text/html": [
       "<div>\n",
       "<style scoped>\n",
       "    .dataframe tbody tr th:only-of-type {\n",
       "        vertical-align: middle;\n",
       "    }\n",
       "\n",
       "    .dataframe tbody tr th {\n",
       "        vertical-align: top;\n",
       "    }\n",
       "\n",
       "    .dataframe thead th {\n",
       "        text-align: right;\n",
       "    }\n",
       "</style>\n",
       "<table border=\"1\" class=\"dataframe\">\n",
       "  <thead>\n",
       "    <tr style=\"text-align: right;\">\n",
       "      <th></th>\n",
       "      <th>g1</th>\n",
       "      <th>g2</th>\n",
       "      <th>g3</th>\n",
       "      <th>g4</th>\n",
       "      <th>g5</th>\n",
       "      <th>group</th>\n",
       "      <th>source</th>\n",
       "    </tr>\n",
       "  </thead>\n",
       "  <tbody>\n",
       "    <tr>\n",
       "      <th>1</th>\n",
       "      <td>0.553099</td>\n",
       "      <td>-0.647709</td>\n",
       "      <td>0.237594</td>\n",
       "      <td>0.115029</td>\n",
       "      <td>0.200407</td>\n",
       "      <td>cancer</td>\n",
       "      <td>DMC</td>\n",
       "    </tr>\n",
       "    <tr>\n",
       "      <th>2</th>\n",
       "      <td>-0.078295</td>\n",
       "      <td>0.744376</td>\n",
       "      <td>-0.452643</td>\n",
       "      <td>-0.591100</td>\n",
       "      <td>-0.314852</td>\n",
       "      <td>cancer</td>\n",
       "      <td>KCI</td>\n",
       "    </tr>\n",
       "    <tr>\n",
       "      <th>3</th>\n",
       "      <td>-0.198139</td>\n",
       "      <td>-0.744249</td>\n",
       "      <td>1.880306</td>\n",
       "      <td>1.215416</td>\n",
       "      <td>-0.709944</td>\n",
       "      <td>cancer</td>\n",
       "      <td>KCI</td>\n",
       "    </tr>\n",
       "    <tr>\n",
       "      <th>4</th>\n",
       "      <td>0.419965</td>\n",
       "      <td>-0.134634</td>\n",
       "      <td>-0.242008</td>\n",
       "      <td>-0.239435</td>\n",
       "      <td>1.929800</td>\n",
       "      <td>cancer</td>\n",
       "      <td>DMC</td>\n",
       "    </tr>\n",
       "    <tr>\n",
       "      <th>5</th>\n",
       "      <td>-0.027500</td>\n",
       "      <td>-1.308988</td>\n",
       "      <td>1.098624</td>\n",
       "      <td>1.083889</td>\n",
       "      <td>0.737667</td>\n",
       "      <td>cancer</td>\n",
       "      <td>DMC</td>\n",
       "    </tr>\n",
       "    <tr>\n",
       "      <th>6</th>\n",
       "      <td>0.162057</td>\n",
       "      <td>1.861983</td>\n",
       "      <td>0.023706</td>\n",
       "      <td>0.355055</td>\n",
       "      <td>-0.693818</td>\n",
       "      <td>healthy</td>\n",
       "      <td>KCI</td>\n",
       "    </tr>\n",
       "    <tr>\n",
       "      <th>7</th>\n",
       "      <td>0.802375</td>\n",
       "      <td>-0.465169</td>\n",
       "      <td>-0.558315</td>\n",
       "      <td>-0.989169</td>\n",
       "      <td>0.145029</td>\n",
       "      <td>healthy</td>\n",
       "      <td>DMC</td>\n",
       "    </tr>\n",
       "    <tr>\n",
       "      <th>8</th>\n",
       "      <td>-2.355317</td>\n",
       "      <td>-0.603842</td>\n",
       "      <td>0.204000</td>\n",
       "      <td>0.620111</td>\n",
       "      <td>0.213076</td>\n",
       "      <td>healthy</td>\n",
       "      <td>DMC</td>\n",
       "    </tr>\n",
       "    <tr>\n",
       "      <th>9</th>\n",
       "      <td>-0.146919</td>\n",
       "      <td>0.519515</td>\n",
       "      <td>2.237472</td>\n",
       "      <td>1.284216</td>\n",
       "      <td>-0.407703</td>\n",
       "      <td>healthy</td>\n",
       "      <td>KCI</td>\n",
       "    </tr>\n",
       "    <tr>\n",
       "      <th>10</th>\n",
       "      <td>1.130596</td>\n",
       "      <td>-0.317148</td>\n",
       "      <td>0.639235</td>\n",
       "      <td>0.224914</td>\n",
       "      <td>0.037919</td>\n",
       "      <td>healthy</td>\n",
       "      <td>DMC</td>\n",
       "    </tr>\n",
       "  </tbody>\n",
       "</table>\n",
       "</div>"
      ],
      "text/plain": [
       "          g1        g2        g3        g4        g5    group source\n",
       "1   0.553099 -0.647709  0.237594  0.115029  0.200407   cancer    DMC\n",
       "2  -0.078295  0.744376 -0.452643 -0.591100 -0.314852   cancer    KCI\n",
       "3  -0.198139 -0.744249  1.880306  1.215416 -0.709944   cancer    KCI\n",
       "4   0.419965 -0.134634 -0.242008 -0.239435  1.929800   cancer    DMC\n",
       "5  -0.027500 -1.308988  1.098624  1.083889  0.737667   cancer    DMC\n",
       "6   0.162057  1.861983  0.023706  0.355055 -0.693818  healthy    KCI\n",
       "7   0.802375 -0.465169 -0.558315 -0.989169  0.145029  healthy    DMC\n",
       "8  -2.355317 -0.603842  0.204000  0.620111  0.213076  healthy    DMC\n",
       "9  -0.146919  0.519515  2.237472  1.284216 -0.407703  healthy    KCI\n",
       "10  1.130596 -0.317148  0.639235  0.224914  0.037919  healthy    DMC"
      ]
     },
     "execution_count": 46,
     "metadata": {},
     "output_type": "execute_result"
    }
   ],
   "source": [
    "df"
   ]
  },
  {
   "cell_type": "code",
   "execution_count": null,
   "metadata": {},
   "outputs": [],
   "source": [
    "# attach(ge)"
   ]
  },
  {
   "cell_type": "code",
   "execution_count": 48,
   "metadata": {},
   "outputs": [
    {
     "data": {
      "text/plain": [
       "0.026192155840660092"
      ]
     },
     "execution_count": 48,
     "metadata": {},
     "output_type": "execute_result"
    }
   ],
   "source": [
    "#mean of g1\n",
    "# mean(g1)\n",
    "df.mean(axis=0)['g1']"
   ]
  },
  {
   "cell_type": "code",
   "execution_count": 49,
   "metadata": {},
   "outputs": [
    {
     "data": {
      "text/plain": [
       "0.06727836370710856"
      ]
     },
     "execution_count": 49,
     "metadata": {},
     "output_type": "execute_result"
    }
   ],
   "source": [
    "#median of g1\n",
    "# median(g1)\n",
    "df.median(axis=0)['g1']"
   ]
  },
  {
   "cell_type": "code",
   "execution_count": 52,
   "metadata": {},
   "outputs": [
    {
     "data": {
      "text/plain": [
       "0.9451040408314976"
      ]
     },
     "execution_count": 52,
     "metadata": {},
     "output_type": "execute_result"
    }
   ],
   "source": [
    "#standard deviation of g1\n",
    "# sd(g1)\n",
    "df.std(axis=0)['g1']"
   ]
  },
  {
   "cell_type": "code",
   "execution_count": 53,
   "metadata": {},
   "outputs": [
    {
     "data": {
      "text/plain": [
       "0.8932216479960251"
      ]
     },
     "execution_count": 53,
     "metadata": {},
     "output_type": "execute_result"
    }
   ],
   "source": [
    "#variance of g1\n",
    "# var(g1)\n",
    "df.var(axis=0)['g1']"
   ]
  },
  {
   "cell_type": "code",
   "execution_count": 102,
   "metadata": {},
   "outputs": [
    {
     "data": {
      "text/plain": [
       "g1    0.026192\n",
       "g2   -0.109586\n",
       "g3    0.506797\n",
       "g4    0.307893\n",
       "g5    0.113758\n",
       "dtype: float64"
      ]
     },
     "execution_count": 102,
     "metadata": {},
     "output_type": "execute_result"
    }
   ],
   "source": [
    "# sapply(ge[1:10, 1:5], mean)\n",
    "df.mean(axis=0)"
   ]
  },
  {
   "cell_type": "code",
   "execution_count": 103,
   "metadata": {},
   "outputs": [],
   "source": [
    "# attach(ge)\n",
    "# v = c(g1,g2,g3,g4,g5)\n",
    "\n",
    "df_list = []\n",
    "for i in ['g1', 'g2', 'g3', 'g4', 'g5']:\n",
    "    df_list += df[i].values.tolist()"
   ]
  },
  {
   "cell_type": "code",
   "execution_count": 2,
   "metadata": {},
   "outputs": [],
   "source": [
    "# dataframe에선 통계 바로 적용 가능, but list에선 statistics module을 import 해야 한다.\n",
    "import statistics as st"
   ]
  },
  {
   "cell_type": "code",
   "execution_count": 111,
   "metadata": {},
   "outputs": [
    {
     "data": {
      "text/plain": [
       "0.16901076005794813"
      ]
     },
     "execution_count": 111,
     "metadata": {},
     "output_type": "execute_result"
    }
   ],
   "source": [
    "# mean(v)\n",
    "st.mean(df_list)"
   ]
  },
  {
   "cell_type": "code",
   "execution_count": 112,
   "metadata": {},
   "outputs": [
    {
     "data": {
      "text/plain": [
       "0.13002933367817698"
      ]
     },
     "execution_count": 112,
     "metadata": {},
     "output_type": "execute_result"
    }
   ],
   "source": [
    "# median(v)\n",
    "st.median(df_list)"
   ]
  },
  {
   "cell_type": "code",
   "execution_count": 114,
   "metadata": {},
   "outputs": [
    {
     "data": {
      "text/plain": [
       "0.8691346934387418"
      ]
     },
     "execution_count": 114,
     "metadata": {},
     "output_type": "execute_result"
    }
   ],
   "source": [
    "# sd(v)\n",
    "st.stdev(df_list)"
   ]
  },
  {
   "cell_type": "code",
   "execution_count": 116,
   "metadata": {},
   "outputs": [
    {
     "data": {
      "text/plain": [
       "0.7553951153388558"
      ]
     },
     "execution_count": 116,
     "metadata": {},
     "output_type": "execute_result"
    }
   ],
   "source": [
    "# var(v)\n",
    "st.variance(df_list)"
   ]
  },
  {
   "cell_type": "code",
   "execution_count": 123,
   "metadata": {},
   "outputs": [
    {
     "data": {
      "text/plain": [
       "g1    -2.35532\n",
       "g2    -1.30899\n",
       "g3   -0.558315\n",
       "g4   -0.989169\n",
       "g5   -0.709944\n",
       "dtype: object"
      ]
     },
     "execution_count": 123,
     "metadata": {},
     "output_type": "execute_result"
    }
   ],
   "source": [
    "# min <- sapply(ge[,1:5], min)\n",
    "df.min(axis=0)[:5]"
   ]
  },
  {
   "cell_type": "code",
   "execution_count": 124,
   "metadata": {},
   "outputs": [
    {
     "data": {
      "text/plain": [
       "g1     1.1306\n",
       "g2    1.86198\n",
       "g3    2.23747\n",
       "g4    1.28422\n",
       "g5     1.9298\n",
       "dtype: object"
      ]
     },
     "execution_count": 124,
     "metadata": {},
     "output_type": "execute_result"
    }
   ],
   "source": [
    "# max <- sapply(ge[,1:5], max)\n",
    "df.max(axis=0)[:5]"
   ]
  },
  {
   "cell_type": "code",
   "execution_count": 125,
   "metadata": {},
   "outputs": [
    {
     "data": {
      "text/plain": [
       "g1    3.48591\n",
       "g2    3.17097\n",
       "g3    2.79579\n",
       "g4    2.27338\n",
       "g5    2.63974\n",
       "dtype: object"
      ]
     },
     "execution_count": 125,
     "metadata": {},
     "output_type": "execute_result"
    }
   ],
   "source": [
    "# max-min\n",
    "df.max(axis=0)[:5]-df.min(axis=0)[:5] # max-min"
   ]
  },
  {
   "cell_type": "code",
   "execution_count": 127,
   "metadata": {},
   "outputs": [
    {
     "data": {
      "text/html": [
       "<div>\n",
       "<style scoped>\n",
       "    .dataframe tbody tr th:only-of-type {\n",
       "        vertical-align: middle;\n",
       "    }\n",
       "\n",
       "    .dataframe tbody tr th {\n",
       "        vertical-align: top;\n",
       "    }\n",
       "\n",
       "    .dataframe thead th {\n",
       "        text-align: right;\n",
       "    }\n",
       "</style>\n",
       "<table border=\"1\" class=\"dataframe\">\n",
       "  <thead>\n",
       "    <tr style=\"text-align: right;\">\n",
       "      <th></th>\n",
       "      <th>g1</th>\n",
       "      <th>g2</th>\n",
       "      <th>g3</th>\n",
       "      <th>g4</th>\n",
       "      <th>g5</th>\n",
       "    </tr>\n",
       "  </thead>\n",
       "  <tbody>\n",
       "    <tr>\n",
       "      <th>count</th>\n",
       "      <td>10.000000</td>\n",
       "      <td>10.000000</td>\n",
       "      <td>10.000000</td>\n",
       "      <td>10.000000</td>\n",
       "      <td>10.000000</td>\n",
       "    </tr>\n",
       "    <tr>\n",
       "      <th>mean</th>\n",
       "      <td>0.026192</td>\n",
       "      <td>-0.109586</td>\n",
       "      <td>0.506797</td>\n",
       "      <td>0.307893</td>\n",
       "      <td>0.113758</td>\n",
       "    </tr>\n",
       "    <tr>\n",
       "      <th>std</th>\n",
       "      <td>0.945104</td>\n",
       "      <td>0.916362</td>\n",
       "      <td>0.958169</td>\n",
       "      <td>0.768323</td>\n",
       "      <td>0.781570</td>\n",
       "    </tr>\n",
       "    <tr>\n",
       "      <th>min</th>\n",
       "      <td>-2.355317</td>\n",
       "      <td>-1.308988</td>\n",
       "      <td>-0.558315</td>\n",
       "      <td>-0.989169</td>\n",
       "      <td>-0.709944</td>\n",
       "    </tr>\n",
       "    <tr>\n",
       "      <th>25%</th>\n",
       "      <td>-0.129763</td>\n",
       "      <td>-0.636742</td>\n",
       "      <td>-0.175580</td>\n",
       "      <td>-0.150819</td>\n",
       "      <td>-0.384490</td>\n",
       "    </tr>\n",
       "    <tr>\n",
       "      <th>50%</th>\n",
       "      <td>0.067278</td>\n",
       "      <td>-0.391159</td>\n",
       "      <td>0.220797</td>\n",
       "      <td>0.289985</td>\n",
       "      <td>0.091474</td>\n",
       "    </tr>\n",
       "    <tr>\n",
       "      <th>75%</th>\n",
       "      <td>0.519816</td>\n",
       "      <td>0.355977</td>\n",
       "      <td>0.983777</td>\n",
       "      <td>0.967945</td>\n",
       "      <td>0.209908</td>\n",
       "    </tr>\n",
       "    <tr>\n",
       "      <th>max</th>\n",
       "      <td>1.130596</td>\n",
       "      <td>1.861983</td>\n",
       "      <td>2.237472</td>\n",
       "      <td>1.284216</td>\n",
       "      <td>1.929800</td>\n",
       "    </tr>\n",
       "  </tbody>\n",
       "</table>\n",
       "</div>"
      ],
      "text/plain": [
       "              g1         g2         g3         g4         g5\n",
       "count  10.000000  10.000000  10.000000  10.000000  10.000000\n",
       "mean    0.026192  -0.109586   0.506797   0.307893   0.113758\n",
       "std     0.945104   0.916362   0.958169   0.768323   0.781570\n",
       "min    -2.355317  -1.308988  -0.558315  -0.989169  -0.709944\n",
       "25%    -0.129763  -0.636742  -0.175580  -0.150819  -0.384490\n",
       "50%     0.067278  -0.391159   0.220797   0.289985   0.091474\n",
       "75%     0.519816   0.355977   0.983777   0.967945   0.209908\n",
       "max     1.130596   1.861983   2.237472   1.284216   1.929800"
      ]
     },
     "execution_count": 127,
     "metadata": {},
     "output_type": "execute_result"
    }
   ],
   "source": [
    "# summary(ge)\n",
    "df.describe()"
   ]
  },
  {
   "cell_type": "code",
   "execution_count": 134,
   "metadata": {},
   "outputs": [
    {
     "data": {
      "text/html": [
       "<div>\n",
       "<style scoped>\n",
       "    .dataframe tbody tr th:only-of-type {\n",
       "        vertical-align: middle;\n",
       "    }\n",
       "\n",
       "    .dataframe tbody tr th {\n",
       "        vertical-align: top;\n",
       "    }\n",
       "\n",
       "    .dataframe thead th {\n",
       "        text-align: right;\n",
       "    }\n",
       "</style>\n",
       "<table border=\"1\" class=\"dataframe\">\n",
       "  <thead>\n",
       "    <tr style=\"text-align: right;\">\n",
       "      <th></th>\n",
       "      <th>g1</th>\n",
       "      <th>g2</th>\n",
       "      <th>g3</th>\n",
       "      <th>g4</th>\n",
       "      <th>g5</th>\n",
       "    </tr>\n",
       "  </thead>\n",
       "  <tbody>\n",
       "    <tr>\n",
       "      <th>g1</th>\n",
       "      <td>0.893222</td>\n",
       "      <td>0.072772</td>\n",
       "      <td>-0.111214</td>\n",
       "      <td>-0.274780</td>\n",
       "      <td>0.071263</td>\n",
       "    </tr>\n",
       "    <tr>\n",
       "      <th>g2</th>\n",
       "      <td>0.072772</td>\n",
       "      <td>0.839720</td>\n",
       "      <td>-0.177781</td>\n",
       "      <td>-0.125067</td>\n",
       "      <td>-0.294265</td>\n",
       "    </tr>\n",
       "    <tr>\n",
       "      <th>g3</th>\n",
       "      <td>-0.111214</td>\n",
       "      <td>-0.177781</td>\n",
       "      <td>0.918088</td>\n",
       "      <td>0.663660</td>\n",
       "      <td>-0.257761</td>\n",
       "    </tr>\n",
       "    <tr>\n",
       "      <th>g4</th>\n",
       "      <td>-0.274780</td>\n",
       "      <td>-0.125067</td>\n",
       "      <td>0.663660</td>\n",
       "      <td>0.590321</td>\n",
       "      <td>-0.159911</td>\n",
       "    </tr>\n",
       "    <tr>\n",
       "      <th>g5</th>\n",
       "      <td>0.071263</td>\n",
       "      <td>-0.294265</td>\n",
       "      <td>-0.257761</td>\n",
       "      <td>-0.159911</td>\n",
       "      <td>0.610852</td>\n",
       "    </tr>\n",
       "  </tbody>\n",
       "</table>\n",
       "</div>"
      ],
      "text/plain": [
       "          g1        g2        g3        g4        g5\n",
       "g1  0.893222  0.072772 -0.111214 -0.274780  0.071263\n",
       "g2  0.072772  0.839720 -0.177781 -0.125067 -0.294265\n",
       "g3 -0.111214 -0.177781  0.918088  0.663660 -0.257761\n",
       "g4 -0.274780 -0.125067  0.663660  0.590321 -0.159911\n",
       "g5  0.071263 -0.294265 -0.257761 -0.159911  0.610852"
      ]
     },
     "execution_count": 134,
     "metadata": {},
     "output_type": "execute_result"
    }
   ],
   "source": [
    "# cov(ge[,1:5])\n",
    "df.cov()"
   ]
  },
  {
   "cell_type": "code",
   "execution_count": 140,
   "metadata": {},
   "outputs": [
    {
     "data": {
      "text/html": [
       "<div>\n",
       "<style scoped>\n",
       "    .dataframe tbody tr th:only-of-type {\n",
       "        vertical-align: middle;\n",
       "    }\n",
       "\n",
       "    .dataframe tbody tr th {\n",
       "        vertical-align: top;\n",
       "    }\n",
       "\n",
       "    .dataframe thead th {\n",
       "        text-align: right;\n",
       "    }\n",
       "</style>\n",
       "<table border=\"1\" class=\"dataframe\">\n",
       "  <thead>\n",
       "    <tr style=\"text-align: right;\">\n",
       "      <th></th>\n",
       "      <th>g1</th>\n",
       "      <th>g2</th>\n",
       "    </tr>\n",
       "  </thead>\n",
       "  <tbody>\n",
       "    <tr>\n",
       "      <th>g1</th>\n",
       "      <td>0.893222</td>\n",
       "      <td>0.072772</td>\n",
       "    </tr>\n",
       "    <tr>\n",
       "      <th>g2</th>\n",
       "      <td>0.072772</td>\n",
       "      <td>0.839720</td>\n",
       "    </tr>\n",
       "  </tbody>\n",
       "</table>\n",
       "</div>"
      ],
      "text/plain": [
       "          g1        g2\n",
       "g1  0.893222  0.072772\n",
       "g2  0.072772  0.839720"
      ]
     },
     "execution_count": 140,
     "metadata": {},
     "output_type": "execute_result"
    }
   ],
   "source": [
    "# cov(ge$g1, ge$g2)\n",
    "df[['g1', 'g2']].cov()"
   ]
  },
  {
   "cell_type": "code",
   "execution_count": 137,
   "metadata": {},
   "outputs": [
    {
     "data": {
      "text/html": [
       "<div>\n",
       "<style scoped>\n",
       "    .dataframe tbody tr th:only-of-type {\n",
       "        vertical-align: middle;\n",
       "    }\n",
       "\n",
       "    .dataframe tbody tr th {\n",
       "        vertical-align: top;\n",
       "    }\n",
       "\n",
       "    .dataframe thead th {\n",
       "        text-align: right;\n",
       "    }\n",
       "</style>\n",
       "<table border=\"1\" class=\"dataframe\">\n",
       "  <thead>\n",
       "    <tr style=\"text-align: right;\">\n",
       "      <th></th>\n",
       "      <th>g1</th>\n",
       "      <th>g2</th>\n",
       "      <th>g3</th>\n",
       "      <th>g4</th>\n",
       "      <th>g5</th>\n",
       "    </tr>\n",
       "  </thead>\n",
       "  <tbody>\n",
       "    <tr>\n",
       "      <th>g1</th>\n",
       "      <td>1.000000</td>\n",
       "      <td>0.084027</td>\n",
       "      <td>-0.122811</td>\n",
       "      <td>-0.378408</td>\n",
       "      <td>0.096476</td>\n",
       "    </tr>\n",
       "    <tr>\n",
       "      <th>g2</th>\n",
       "      <td>0.084027</td>\n",
       "      <td>1.000000</td>\n",
       "      <td>-0.202477</td>\n",
       "      <td>-0.177637</td>\n",
       "      <td>-0.410869</td>\n",
       "    </tr>\n",
       "    <tr>\n",
       "      <th>g3</th>\n",
       "      <td>-0.122811</td>\n",
       "      <td>-0.202477</td>\n",
       "      <td>1.000000</td>\n",
       "      <td>0.901487</td>\n",
       "      <td>-0.344197</td>\n",
       "    </tr>\n",
       "    <tr>\n",
       "      <th>g4</th>\n",
       "      <td>-0.378408</td>\n",
       "      <td>-0.177637</td>\n",
       "      <td>0.901487</td>\n",
       "      <td>1.000000</td>\n",
       "      <td>-0.266298</td>\n",
       "    </tr>\n",
       "    <tr>\n",
       "      <th>g5</th>\n",
       "      <td>0.096476</td>\n",
       "      <td>-0.410869</td>\n",
       "      <td>-0.344197</td>\n",
       "      <td>-0.266298</td>\n",
       "      <td>1.000000</td>\n",
       "    </tr>\n",
       "  </tbody>\n",
       "</table>\n",
       "</div>"
      ],
      "text/plain": [
       "          g1        g2        g3        g4        g5\n",
       "g1  1.000000  0.084027 -0.122811 -0.378408  0.096476\n",
       "g2  0.084027  1.000000 -0.202477 -0.177637 -0.410869\n",
       "g3 -0.122811 -0.202477  1.000000  0.901487 -0.344197\n",
       "g4 -0.378408 -0.177637  0.901487  1.000000 -0.266298\n",
       "g5  0.096476 -0.410869 -0.344197 -0.266298  1.000000"
      ]
     },
     "execution_count": 137,
     "metadata": {},
     "output_type": "execute_result"
    }
   ],
   "source": [
    "# cor(ge[,1:5])\n",
    "df.corr()"
   ]
  },
  {
   "cell_type": "code",
   "execution_count": 139,
   "metadata": {},
   "outputs": [
    {
     "data": {
      "text/html": [
       "<div>\n",
       "<style scoped>\n",
       "    .dataframe tbody tr th:only-of-type {\n",
       "        vertical-align: middle;\n",
       "    }\n",
       "\n",
       "    .dataframe tbody tr th {\n",
       "        vertical-align: top;\n",
       "    }\n",
       "\n",
       "    .dataframe thead th {\n",
       "        text-align: right;\n",
       "    }\n",
       "</style>\n",
       "<table border=\"1\" class=\"dataframe\">\n",
       "  <thead>\n",
       "    <tr style=\"text-align: right;\">\n",
       "      <th></th>\n",
       "      <th>g1</th>\n",
       "      <th>g2</th>\n",
       "    </tr>\n",
       "  </thead>\n",
       "  <tbody>\n",
       "    <tr>\n",
       "      <th>g1</th>\n",
       "      <td>1.000000</td>\n",
       "      <td>0.084027</td>\n",
       "    </tr>\n",
       "    <tr>\n",
       "      <th>g2</th>\n",
       "      <td>0.084027</td>\n",
       "      <td>1.000000</td>\n",
       "    </tr>\n",
       "  </tbody>\n",
       "</table>\n",
       "</div>"
      ],
      "text/plain": [
       "          g1        g2\n",
       "g1  1.000000  0.084027\n",
       "g2  0.084027  1.000000"
      ]
     },
     "execution_count": 139,
     "metadata": {},
     "output_type": "execute_result"
    }
   ],
   "source": [
    "# cor(ge$g1, ge$g2)\n",
    "df[['g1', 'g2']].corr()"
   ]
  },
  {
   "cell_type": "code",
   "execution_count": 3,
   "metadata": {},
   "outputs": [
    {
     "data": {
      "text/plain": [
       "[5, 1, 5, 6, 5]"
      ]
     },
     "execution_count": 3,
     "metadata": {},
     "output_type": "execute_result"
    }
   ],
   "source": [
    "import random\n",
    "\n",
    "# sample(1:6, 10, replace=T)\n",
    "\n",
    "random.sample(range(1,7), 5) # replace=F\n",
    "random.choices(range(1,7), k=5) # replace=T"
   ]
  },
  {
   "cell_type": "code",
   "execution_count": 188,
   "metadata": {},
   "outputs": [
    {
     "data": {
      "text/plain": [
       "['h', 't', 'h', 'h', 'h', 'h', 'h', 'h', 't', 't']"
      ]
     },
     "execution_count": 188,
     "metadata": {},
     "output_type": "execute_result"
    }
   ],
   "source": [
    "# sample(c('h', 't'), 10, replace=T, c(0.6,0.4))\n",
    "random.choices(['h', 't'], weights=(0.6, 0.4), k=10) # weights는 뽑힐 확률 즉, 한번의 시도에 바로 6:4로 선택되지 않음"
   ]
  },
  {
   "cell_type": "markdown",
   "metadata": {},
   "source": [
    " "
   ]
  },
  {
   "cell_type": "markdown",
   "metadata": {},
   "source": [
    "<font size=\"5\">Empirical probabilities</font><br><br>\n",
    "<font size=\"3\">베이즈 추론에서 경험적 확률이란 관측을 하기 전에 가지고 있는 확률분포를 의미한다. (사전 확률이라고도 한다.)</font><br>\n",
    "<font size=\"3\">무한히 많은 시행에서 어떤 사건이 일어날 확률이 일정한 값에 한없이 가까워 졌을 때 그 값을 경험적 확률이라고 한다.</font>\n"
   ]
  },
  {
   "cell_type": "code",
   "execution_count": 4,
   "metadata": {},
   "outputs": [
    {
     "name": "stderr",
     "output_type": "stream",
     "text": [
      "/home/users/hwangzi/tools/anaconda3/envs/study/lib/python3.6/site-packages/rpy2/robjects/pandas2ri.py:17: FutureWarning: pandas.core.index is deprecated and will be removed in a future version.  The public classes are available in the top-level namespace.\n",
      "  from pandas.core.index import Index as PandasIndex\n"
     ]
    }
   ],
   "source": [
    "import rpy2.robjects as robjects \n",
    "from rpy2.robjects.packages import importr  \n",
    "import rpy2.rinterface as ri\n",
    "from rpy2.robjects import pandas2ri\n",
    "from rpy2.robjects import numpy2ri\n",
    "\n",
    "pandas2ri.activate()\n",
    "numpy2ri.activate()\n",
    "\n",
    "r = robjects.r \n",
    "g = robjects.globalenv "
   ]
  },
  {
   "cell_type": "code",
   "execution_count": 203,
   "metadata": {},
   "outputs": [],
   "source": [
    "choose = r['choose'] # nCk"
   ]
  },
  {
   "cell_type": "code",
   "execution_count": 204,
   "metadata": {},
   "outputs": [],
   "source": [
    "res = choose(10,5)"
   ]
  },
  {
   "cell_type": "code",
   "execution_count": 205,
   "metadata": {},
   "outputs": [
    {
     "data": {
      "text/plain": [
       "rpy2.robjects.vectors.FloatVector"
      ]
     },
     "execution_count": 205,
     "metadata": {},
     "output_type": "execute_result"
    }
   ],
   "source": [
    "type(res)"
   ]
  },
  {
   "cell_type": "code",
   "execution_count": 206,
   "metadata": {},
   "outputs": [],
   "source": [
    "res = numpy2ri.ri2py(res)"
   ]
  },
  {
   "cell_type": "code",
   "execution_count": 207,
   "metadata": {},
   "outputs": [
    {
     "data": {
      "text/plain": [
       "numpy.float64"
      ]
     },
     "execution_count": 207,
     "metadata": {},
     "output_type": "execute_result"
    }
   ],
   "source": [
    "type(res[0])"
   ]
  },
  {
   "cell_type": "code",
   "execution_count": 208,
   "metadata": {},
   "outputs": [],
   "source": [
    "# Ex1\n",
    "# allows us to pick 10 numbers from 1 to 80. \n",
    "# the lottery will draw 22 numbers.\n",
    "\n",
    "# Matches 10 of 22 -> Prize $250,000\n",
    "# Matches 9 of 22 -> Prize $2,500\n",
    "# Matches 8 of 22 -> Prize $250\n",
    "# Matches 7 of 22 -> Prize $25\n",
    "# Matches 6 of 22 -> Prize $7\n",
    "# Matches 0 of 22 -> Prize $1"
   ]
  },
  {
   "cell_type": "code",
   "execution_count": 225,
   "metadata": {},
   "outputs": [],
   "source": [
    "def keno_prob(n, m, k, l):\n",
    "    r('prob <- choose(%d,%d)*choose(%d,%d)/choose(%d,%d)'%(k,l,n-k,m-l,n,m))\n",
    "    prob = r['prob'][0]\n",
    "    \n",
    "    return prob"
   ]
  },
  {
   "cell_type": "code",
   "execution_count": 226,
   "metadata": {},
   "outputs": [],
   "source": [
    "dict_prize = {10:250000, 9:2500, 8:250, 7:25, 6:7, 0:1}"
   ]
  },
  {
   "cell_type": "code",
   "execution_count": 229,
   "metadata": {},
   "outputs": [],
   "source": [
    "prob_list = []\n",
    "win_list = []\n",
    "\n",
    "for win in dict_prize.keys():\n",
    "    prob = keno_prob(80, 10, 22, win)\n",
    "    prob_list.append(prob)\n",
    "    win_list.append(prob*dict_prize[win])"
   ]
  },
  {
   "cell_type": "code",
   "execution_count": 230,
   "metadata": {},
   "outputs": [
    {
     "data": {
      "text/plain": [
       "[3.9274163296954456e-07,\n",
       " 1.752231900941045e-05,\n",
       " 0.0003210339161366986,\n",
       " 0.003196070987316466,\n",
       " 0.019226364533075618,\n",
       " 0.03169130421839497]"
      ]
     },
     "execution_count": 230,
     "metadata": {},
     "output_type": "execute_result"
    }
   ],
   "source": [
    "prob_list"
   ]
  },
  {
   "cell_type": "code",
   "execution_count": 238,
   "metadata": {},
   "outputs": [
    {
     "data": {
      "text/plain": [
       "[0.09818540824238614,\n",
       " 0.043805797523526126,\n",
       " 0.08025847903417464,\n",
       " 0.07990177468291165,\n",
       " 0.13458455173152933,\n",
       " 0.03169130421839497]"
      ]
     },
     "execution_count": 238,
     "metadata": {},
     "output_type": "execute_result"
    }
   ],
   "source": [
    "win_list"
   ]
  },
  {
   "cell_type": "markdown",
   "metadata": {},
   "source": [
    "<br><font size=\"5\">Standard distributions</font><br>"
   ]
  },
  {
   "cell_type": "code",
   "execution_count": 240,
   "metadata": {},
   "outputs": [],
   "source": [
    "# r for random numbers (ex. rnorm, rbinom)\n",
    "# d for density (ex. dnorm, dbinom)\n",
    "# p for probability (ex. pnorm, pbinom)\n",
    "# q for quantiles (ex. qnorm, qbinom)"
   ]
  },
  {
   "cell_type": "code",
   "execution_count": 5,
   "metadata": {},
   "outputs": [],
   "source": [
    "import math"
   ]
  },
  {
   "cell_type": "markdown",
   "metadata": {},
   "source": [
    "<font size=\"4\">Generating random number</font>"
   ]
  },
  {
   "cell_type": "code",
   "execution_count": 241,
   "metadata": {},
   "outputs": [],
   "source": [
    "# Generating random numbers\n",
    "# r for random numbers (ex. rnorm, rbinom)\n",
    "r('nums <- rnorm(1000, mean=0, sd=1)')\n",
    "nums = r['nums']"
   ]
  },
  {
   "cell_type": "code",
   "execution_count": 242,
   "metadata": {},
   "outputs": [
    {
     "data": {
      "text/plain": [
       "array([ 6.12131392e-01, -3.30522500e-02,  8.26727508e-01, -6.24080368e-01,\n",
       "       -1.73434793e-01, -4.40175453e-01, -2.07865197e-01,  8.45403001e-02,\n",
       "        4.04718535e-01,  3.13120067e-01,  6.19828374e-01,  1.11536635e+00,\n",
       "        1.86588495e-01,  6.32402020e-01,  1.57830882e-01, -3.11681946e-01,\n",
       "       -1.72845495e-01, -1.03869854e+00,  3.33276174e-01, -1.09333241e+00,\n",
       "       -9.45000271e-01,  2.50646956e-01,  4.37730453e-02, -5.49289823e-01,\n",
       "        7.59439849e-01,  1.43227991e+00, -1.15345410e+00,  6.18440198e-01,\n",
       "        9.22069972e-01,  9.23681380e-01, -1.69767374e-01,  3.45814006e-01,\n",
       "       -1.35540140e-01, -1.88477888e-01,  2.13719759e+00, -4.74826463e-02,\n",
       "       -3.33726408e-01,  2.93971158e-01,  8.51379518e-01,  1.48424802e+00,\n",
       "        3.87503879e-01,  1.56651176e+00,  8.41645884e-01, -9.45487658e-01,\n",
       "       -9.97980397e-01, -2.80737117e-02, -2.35958194e-01, -4.54867316e-01,\n",
       "       -1.65503892e+00, -9.78181322e-01, -1.22178733e+00,  2.03874549e-01,\n",
       "        1.68491865e+00, -1.81553532e+00, -8.89865962e-01,  8.40211540e-01,\n",
       "       -6.31052765e-01,  2.72982130e-01, -6.78061019e-01, -1.41774129e+00,\n",
       "       -2.26191527e-01,  2.44769630e-02,  1.85466897e-01,  4.69261693e-02,\n",
       "        6.28487930e-01,  1.21714848e-01, -1.90646725e+00, -1.14241543e+00,\n",
       "       -1.36696952e+00,  2.09506435e-01, -5.49790287e-02,  5.55311465e-01,\n",
       "       -1.63986219e+00, -9.72996574e-01, -3.30610542e-01,  1.02330448e+00,\n",
       "       -8.28753456e-01, -4.14782262e-01,  4.56580032e-01,  8.60786991e-01,\n",
       "        8.52563613e-01, -2.66743313e-02,  1.54465532e+00,  8.71525656e-01,\n",
       "        2.06717119e-01,  1.10243926e+00, -1.29607006e-01, -9.80124935e-01,\n",
       "        3.41185518e-01, -8.83705617e-01,  1.86422940e+00, -8.32839805e-01,\n",
       "       -6.39722076e-02, -1.14884994e+00, -6.10667917e-01, -9.59252461e-01,\n",
       "        1.91157330e-01,  1.74237649e-01,  1.69512842e+00, -6.40147487e-01,\n",
       "       -1.61976295e+00,  1.80859959e-02,  3.79187100e-01,  1.13617980e+00,\n",
       "        1.13978035e+00, -9.01076379e-01, -1.31618162e+00, -3.78006554e-01,\n",
       "        1.28081378e-01,  7.58050683e-01,  1.22352703e+00,  1.58470035e+00,\n",
       "        5.61889099e-01,  5.25528333e-01, -1.30891630e+00,  9.60078610e-01,\n",
       "       -1.22192223e-01,  6.13732884e-02,  1.27914295e+00, -6.86361718e-02,\n",
       "        1.03810374e+00,  3.44181416e-01,  5.76539912e-01,  9.54716838e-02,\n",
       "       -1.47521182e+00,  7.23146989e-01, -1.17391892e+00, -4.15100779e-01,\n",
       "        2.79186795e-01, -1.89925250e+00,  8.74923623e-02,  1.67346363e-01,\n",
       "       -2.00917582e+00,  2.04482219e+00, -1.37832218e+00,  1.69092467e+00,\n",
       "       -5.48081865e-01, -7.02136210e-01,  5.12138673e-01,  2.34484948e+00,\n",
       "       -4.06209495e-01, -2.54915990e-01,  2.11794403e+00,  1.10822822e+00,\n",
       "        6.12783877e-01, -1.92631733e+00,  1.55589733e+00,  1.23287249e+00,\n",
       "        1.23123921e-01,  1.33728973e+00,  1.27738278e-01, -3.94336338e-01,\n",
       "       -2.35435781e-01,  1.96189535e-01, -2.57654599e-01,  1.47775333e+00,\n",
       "       -2.40586894e+00,  9.85456827e-02, -1.26605169e+00,  7.97055221e-01,\n",
       "        9.43906296e-01,  8.49543608e-01, -2.07868937e+00,  2.07578298e+00,\n",
       "        6.64953620e-01, -7.51349550e-01,  1.11040259e+00, -1.98214495e-01,\n",
       "       -1.12777134e+00,  1.24290278e+00, -2.84174751e-01,  3.21302413e-02,\n",
       "       -2.59882297e-02,  3.63823411e-01,  1.07959831e+00, -8.37087009e-02,\n",
       "        1.12942708e+00,  1.80933659e-02, -6.26724195e-01,  1.09965227e-01,\n",
       "       -6.83959687e-01,  4.41158947e-01,  4.87210341e-01, -2.21006000e-01,\n",
       "       -6.06766309e-01, -1.52159438e-01, -1.26517550e+00,  8.34059840e-01,\n",
       "        9.04837961e-02, -6.76797281e-01,  1.61054331e+00,  2.00166087e+00,\n",
       "       -1.10503483e+00, -6.94313383e-01, -1.08399512e+00, -2.43517942e-01,\n",
       "        8.44850444e-01,  1.70023456e+00,  1.07317844e+00, -4.53247431e-01,\n",
       "        1.76384081e-01, -4.16604076e-01,  1.45507075e-01,  1.03824218e+00,\n",
       "        6.64399128e-02, -1.27231736e+00, -6.28946932e-03, -6.63788543e-02,\n",
       "        1.62967275e-01, -3.68358702e-01,  4.16480475e-01, -1.33993438e-01,\n",
       "        9.05657472e-01,  3.24968461e-03,  5.72072656e-01, -1.85250380e+00,\n",
       "       -1.16644114e+00, -2.28277362e-01, -1.63821395e+00, -1.01276441e+00,\n",
       "       -2.09816395e-01, -2.51217771e-01,  2.36127924e+00, -1.38661596e+00,\n",
       "        1.00130132e+00,  3.82491021e-02,  8.77873310e-01,  1.28604613e-01,\n",
       "       -4.36516280e-01,  1.50489887e+00,  4.36077540e-02,  4.97681022e-01,\n",
       "       -3.01705679e-01,  7.71778724e-01, -2.37400821e+00,  1.47570633e+00,\n",
       "        1.23151235e+00,  2.62622497e-01,  5.98697755e-01, -1.54776176e+00,\n",
       "        5.99895018e-01, -2.60430848e-01,  4.22783579e-01, -7.22736128e-01,\n",
       "       -1.94016152e+00,  6.23418635e-01,  4.51889620e-01, -1.78404465e-01,\n",
       "        8.86621720e-01, -7.12842548e-01, -7.23766704e-01, -1.04894218e-01,\n",
       "        1.80377424e-01, -2.62502631e-01, -1.19761666e-01,  1.61140209e+00,\n",
       "        9.85153750e-02,  1.09159097e+00, -1.24575603e+00, -2.67035184e+00,\n",
       "        1.92983653e-01,  1.55791159e+00, -2.39815593e-01, -4.15530896e-01,\n",
       "       -1.36683626e+00,  4.43794323e-01,  1.18559809e+00,  1.88249766e-01,\n",
       "        4.73025210e-01, -1.14072601e+00,  1.56403084e-01,  1.65829528e-01,\n",
       "        2.10060282e+00,  2.39503842e+00, -1.77958008e-01,  1.78041089e+00,\n",
       "       -1.62084957e+00,  4.94721002e-01,  4.46001867e-01, -1.47985428e+00,\n",
       "       -1.44290543e+00, -1.70890210e+00,  4.79179380e-01,  8.38261011e-01,\n",
       "        3.07788371e+00, -2.70536879e-01, -4.25344107e-02,  3.14114022e-01,\n",
       "        1.41102818e+00,  1.24135145e+00, -8.80345273e-02,  1.35148173e+00,\n",
       "       -6.69669335e-01,  1.88775486e-01, -1.56567280e+00,  7.52566497e-01,\n",
       "        4.85564428e-01, -1.81917840e+00,  2.95691654e-01,  4.36496371e-01,\n",
       "       -6.85410051e-01, -1.37261018e+00,  1.31485143e+00,  2.51357015e+00,\n",
       "       -4.02881334e-02, -2.29377830e+00, -1.62110348e+00, -4.97630909e-01,\n",
       "       -1.31468817e+00,  1.12492491e+00, -3.45633305e-01,  6.83237214e-01,\n",
       "       -1.04625559e+00, -6.02232590e-01,  6.57097945e-01, -9.44926196e-01,\n",
       "       -5.01989059e-01, -5.86628912e-01,  5.97939432e-01, -2.52194694e+00,\n",
       "       -1.25088359e+00, -5.41084212e-01, -2.09482649e+00,  4.56048283e-01,\n",
       "        7.20802979e-01,  7.78816504e-01,  3.13243383e-01, -1.80415762e-01,\n",
       "       -1.01532162e+00, -7.66121678e-01,  8.39200513e-01,  1.61236134e+00,\n",
       "       -1.28033117e+00,  6.36948138e-01,  6.45134387e-01,  2.55801953e-01,\n",
       "       -1.32390243e+00,  4.98026206e-01,  1.51905094e+00, -1.57259423e+00,\n",
       "        3.37685276e-01, -3.60347791e-01,  1.08919306e+00,  6.15607800e-01,\n",
       "        1.46830425e+00,  3.01154508e-01,  6.69138906e-01,  8.33115284e-01,\n",
       "        1.21964388e+00,  2.26934202e-01, -1.01705980e+00, -2.13296704e+00,\n",
       "       -1.26434357e+00, -2.10301183e+00,  3.38996817e-01, -2.55724066e-01,\n",
       "        1.67044638e+00, -7.86764559e-01,  1.23287969e+00, -1.26491472e+00,\n",
       "        1.61903501e+00,  1.53038441e+00,  3.59154859e-01, -6.01689384e-01,\n",
       "       -6.20503480e-01, -7.49571004e-01,  3.93966439e-01,  1.28527319e-01,\n",
       "       -6.11234535e-01, -1.40112075e+00,  6.03045773e-01,  4.85050311e-02,\n",
       "        4.68138598e-01, -6.23878248e-01, -3.77013236e-01, -7.27754191e-01,\n",
       "       -2.30652896e-01,  7.55731963e-02, -5.87831559e-01, -1.51298128e+00,\n",
       "        1.10605249e+00, -6.29384433e-01,  5.87801747e-01, -3.15209714e-01,\n",
       "       -9.89158487e-01, -2.30706694e-01,  2.34978302e-01,  2.01753450e-02,\n",
       "        3.04546237e+00, -3.63949417e-01,  5.30426549e-01, -4.29587118e-02,\n",
       "       -7.19701712e-01, -1.40173623e+00, -1.07670617e+00,  3.91520985e-01,\n",
       "       -7.46142401e-01,  1.09910940e+00, -1.51701594e+00, -2.17240374e+00,\n",
       "        8.67003731e-01, -8.89704803e-01, -3.15160211e-01,  5.72578743e-01,\n",
       "        1.86880632e+00,  1.21514774e+00, -2.08753962e+00, -9.72892378e-01,\n",
       "        1.16018114e-01,  1.42727579e+00,  1.49770723e+00, -9.85999910e-01,\n",
       "       -1.23525729e+00,  1.33499237e+00,  1.43170753e+00, -5.29799569e-01,\n",
       "       -9.11465053e-01, -5.02896736e-01, -6.31377197e-01, -4.86281068e-01,\n",
       "       -1.13015252e+00,  9.04081663e-01,  8.46871371e-01,  5.76658533e-01,\n",
       "       -2.50047689e-01,  1.15976536e+00,  3.00213430e-01,  7.05326062e-01,\n",
       "        4.34029563e-01,  1.62950191e+00,  1.58188759e+00, -1.59582914e+00,\n",
       "        7.15865128e-01,  6.31424305e-01,  1.43418294e+00, -3.04242004e-01,\n",
       "        5.21779737e-01,  1.64435702e+00,  1.59272105e+00, -8.44240501e-01,\n",
       "       -2.13611248e-01, -5.19875693e-01,  2.33740752e-01, -6.45241918e-01,\n",
       "       -1.08771560e+00,  7.56731255e-01,  3.91270418e-01,  4.02912946e-01,\n",
       "       -1.05504893e-03,  5.36177896e-01, -1.03744123e+00,  4.07733078e-01,\n",
       "        9.21652834e-01,  1.65539644e+00, -1.97459481e+00,  1.17554151e-01,\n",
       "       -5.29955526e-01, -1.03882012e+00,  6.42812054e-01,  1.81650339e-01,\n",
       "       -2.49776938e-02,  1.47354839e-01, -1.84875040e+00,  1.67615932e-01,\n",
       "       -8.26553941e-01,  4.00924720e-01, -1.01226318e-01, -1.33244847e-01,\n",
       "       -4.19086772e-01, -1.05467031e-01, -4.44822513e-01,  9.23631963e-01,\n",
       "       -1.78241864e+00, -1.49187576e+00,  3.85591437e-01,  4.38956939e-01,\n",
       "       -1.94832010e+00,  1.25282589e+00,  1.28142682e-01,  3.81753731e-01,\n",
       "        2.94485501e-01, -4.80902312e-01, -1.92940403e+00,  1.37033214e+00,\n",
       "        5.14958213e-01, -6.93099715e-01, -1.11468238e+00,  4.37680036e-01,\n",
       "       -8.35656567e-01, -5.11013647e-01,  8.52840889e-01, -3.38578761e-02,\n",
       "       -7.78387822e-01,  3.92248929e-01, -4.81480108e-03, -1.76748560e-01,\n",
       "        8.34810309e-01,  1.25027177e+00, -1.32399719e+00,  5.10238153e-02,\n",
       "        8.10392516e-01,  2.02109100e-01,  6.28182922e-01, -3.81976469e-01,\n",
       "       -8.58500407e-01, -3.58336004e-01,  4.54394539e-01,  7.49559530e-01,\n",
       "       -9.66643092e-01,  3.17986425e-01,  4.49741573e-01,  7.39561068e-01,\n",
       "       -7.51502757e-01,  6.15240658e-02, -1.86046776e-01,  1.81959662e+00,\n",
       "       -2.61784374e-01,  1.16680888e-01, -4.20683365e-01, -8.67628554e-01,\n",
       "        1.35231631e+00, -8.72226648e-01, -1.21630472e+00, -3.57602635e-01,\n",
       "        8.95960405e-01, -5.38344816e-01, -1.13633759e-01, -6.26671093e-01,\n",
       "        2.54432710e-01, -8.63652131e-01,  8.50616114e-01, -6.13870506e-01,\n",
       "       -1.75623425e-01, -1.22636170e+00,  5.24565388e-02,  4.92568516e-01,\n",
       "       -2.14068917e-01,  2.67947926e-01,  1.32166189e+00,  3.37419792e-01,\n",
       "       -1.63024614e-01,  2.36514081e-01,  8.38938444e-01,  1.31903000e+00,\n",
       "        1.10568164e+00,  1.39393204e-01,  1.79946011e-01,  1.97067877e-01,\n",
       "        4.78893948e-02, -7.82248946e-01, -7.86805614e-01,  1.50419935e+00,\n",
       "       -1.00446635e+00,  1.29276765e-01, -5.10216710e-01, -6.85588694e-01,\n",
       "        5.14863551e-01,  9.89213653e-01,  6.04937602e-01,  4.04929997e-01,\n",
       "       -3.41232666e-01,  1.05737459e+00,  1.37561443e-02,  1.17234788e+00,\n",
       "       -9.96117042e-01,  1.90664888e-01, -7.39229282e-01, -1.23460184e+00,\n",
       "       -1.60899871e+00,  1.39991366e+00, -7.29889013e-02,  1.46772934e+00,\n",
       "        1.84094245e-01, -1.58627214e+00, -2.27957826e-01, -5.53061235e-01,\n",
       "       -5.85913736e-01,  1.92220390e+00,  4.78823025e-01, -1.36007342e-01,\n",
       "       -7.11187010e-01,  6.28910092e-01, -1.15162436e+00, -1.35806118e+00,\n",
       "       -1.59882167e+00, -8.65845511e-02,  1.38036031e+00, -9.97014542e-01,\n",
       "       -2.57478451e-01,  3.95711466e-01,  3.39926091e-01,  1.87401058e+00,\n",
       "        1.40705838e-01,  1.20920691e+00, -2.42839578e-01, -3.09882427e-01,\n",
       "       -9.11186720e-01,  5.94416350e-01,  2.41564794e-01,  9.53236603e-01,\n",
       "        3.33202993e-01,  6.73598011e-01, -1.66002850e+00, -3.38109627e-01,\n",
       "        1.31133120e+00, -6.64140374e-01, -1.61730473e+00, -6.08042729e-02,\n",
       "        1.36712658e+00, -2.57802202e-01, -2.09372683e+00, -3.01318830e-01,\n",
       "        2.21720893e-01, -1.55375045e+00, -1.68565803e+00, -7.08427913e-01,\n",
       "       -1.43592527e+00,  1.75041681e-01,  6.00339444e-03,  8.78346066e-01,\n",
       "       -1.25146877e+00,  2.34557386e-01,  1.49890605e+00, -1.38651178e+00,\n",
       "       -1.50403307e+00, -8.26870287e-01,  5.30177022e-01,  3.93695678e-01,\n",
       "       -4.23302306e-01, -6.96257297e-01,  1.07669145e+00, -1.56597375e+00,\n",
       "        2.87721521e-01,  1.03639387e+00, -7.93269503e-02,  1.20490842e+00,\n",
       "       -6.64362026e-01,  3.43787853e-02, -5.28778319e-01, -3.27444974e-01,\n",
       "        6.18904191e-01, -4.40380481e-01, -2.18131695e+00, -2.29644774e-01,\n",
       "       -3.26776230e+00, -2.11676994e+00,  3.24582819e-01, -1.39224879e+00,\n",
       "        2.55080704e-01,  4.50494521e-02,  1.20080983e+00,  1.00165172e+00,\n",
       "        5.45982018e-01, -6.44290711e-01, -2.21479055e+00,  9.95725529e-02,\n",
       "       -3.82135364e-01,  7.97290570e-01, -9.21138921e-01,  2.66803915e+00,\n",
       "        1.85764411e+00,  8.03866301e-02,  7.38717929e-01, -5.91943472e-01,\n",
       "        1.50873537e+00,  3.81347491e-01,  2.60318263e-01, -1.45272001e-01,\n",
       "        4.03677769e-01,  7.67525588e-01,  7.36400369e-01,  1.48400110e+00,\n",
       "        3.19457806e-01, -7.19150919e-02,  1.74895436e+00,  1.47667506e+00,\n",
       "       -2.81999314e+00,  1.30407061e+00,  2.11497163e-01, -1.71626410e+00,\n",
       "       -3.22487094e-01,  7.19012431e-02,  1.19464041e+00, -1.16719322e+00,\n",
       "        2.92925415e+00, -4.48435354e-01, -1.18591748e+00,  7.14962161e-01,\n",
       "       -4.16483979e-01,  1.65056937e+00, -1.06022030e+00,  1.86660784e+00,\n",
       "       -9.08117394e-01,  1.22373803e+00,  8.69665874e-01, -1.01159283e+00,\n",
       "        5.02915281e-01,  1.15037083e+00,  2.85335281e-01, -1.08801334e+00,\n",
       "       -8.17228359e-01,  8.50398223e-01, -1.47589833e-01, -3.05019081e-01,\n",
       "       -1.82359274e-01, -2.84991587e-01,  2.82677934e-01, -1.40505908e+00,\n",
       "        5.86400520e-01, -1.35871679e+00, -1.27537635e-01,  4.53979708e-02,\n",
       "       -1.26318809e+00,  1.82113478e+00,  2.90788224e-01, -1.12978160e+00,\n",
       "       -5.70222535e-01, -7.55241562e-01, -3.69064476e-02, -1.00361647e+00,\n",
       "       -8.96381488e-01,  1.58969668e+00,  1.26919559e+00, -1.88673309e+00,\n",
       "        9.23981312e-02,  1.17030460e+00,  1.54455661e+00,  1.24171656e+00,\n",
       "        9.58163981e-01,  1.63222281e-01, -4.15929647e-01, -2.99953547e+00,\n",
       "        8.30513981e-01, -9.08740373e-01,  7.96145460e-02, -3.84828855e-01,\n",
       "        5.98975600e-01, -2.10068668e+00, -8.40245273e-01,  8.82803686e-01,\n",
       "        1.21983677e+00, -8.57085741e-01,  4.87227827e-01, -2.80300242e-01,\n",
       "        5.42547688e-01, -2.57736355e-01,  3.67618585e-01,  1.02240250e+00,\n",
       "       -6.56062120e-01, -2.65610583e-01,  7.31640473e-01, -3.15320146e-01,\n",
       "        1.34570411e-01, -2.00316226e+00, -1.82625599e-02,  9.68662351e-01,\n",
       "        1.80737646e+00, -2.80073332e-01, -1.24263622e+00,  2.48903124e-01,\n",
       "       -8.17525382e-02,  2.26579227e+00,  6.96521428e-01, -6.10469816e-02,\n",
       "       -3.56610446e-01, -9.55129181e-01, -1.77838073e-01,  2.42950928e+00,\n",
       "        1.29533010e+00,  2.64008057e-02, -3.08174598e-01, -8.86862535e-01,\n",
       "       -2.78031780e-01, -2.45830523e-01, -3.69059296e-01, -3.45434064e-01,\n",
       "       -4.70437649e-02,  1.29354444e+00,  2.04621544e-01,  9.39852692e-02,\n",
       "       -2.37521958e+00, -1.47303074e+00,  1.96941046e+00,  7.91852023e-01,\n",
       "        9.83280098e-01,  1.00197197e+00,  1.44890905e-01, -1.23933366e+00,\n",
       "       -9.79145509e-01,  2.72162345e-01, -2.42350088e-01, -1.22165691e+00,\n",
       "        6.48350544e-01,  1.84866950e+00,  6.20324751e-01,  4.77267923e-01,\n",
       "       -3.44065744e+00,  7.17931494e-01,  8.61373471e-01,  6.73402717e-01,\n",
       "        1.04182655e+00, -8.20904362e-01,  1.31179248e+00, -1.51615918e+00,\n",
       "        2.98563014e-02, -2.58551329e+00, -1.01474379e+00, -4.14724246e-01,\n",
       "        8.00403680e-01,  9.14641629e-01,  1.30265643e-01, -6.62844811e-01,\n",
       "        1.08485954e+00, -3.83647682e-01, -1.91381964e-01, -2.25157259e-01,\n",
       "       -9.32893137e-01, -9.21911867e-01,  8.29166068e-01,  2.03978286e+00,\n",
       "       -4.68905345e-01,  1.53024396e+00, -6.01592290e-01,  2.50529416e-01,\n",
       "       -1.11479885e+00, -1.63588986e+00, -1.27374957e+00,  1.22578860e+00,\n",
       "        1.30546496e-01,  9.94209379e-01, -2.25487934e+00, -4.61921261e-01,\n",
       "       -3.17746704e-01,  9.28490696e-01,  1.05752360e+00, -5.16017397e-01,\n",
       "       -1.32515505e+00,  3.40472305e-01,  6.72283832e-01,  7.07032716e-01,\n",
       "        1.22547848e-01, -3.11535641e+00,  2.64403913e+00,  2.39089266e+00,\n",
       "       -1.24190351e+00, -5.56568936e-01,  9.05057740e-01,  1.02533125e-01,\n",
       "        1.62619358e+00, -1.05944579e+00, -3.54758171e-01, -6.52229003e-01,\n",
       "       -3.85003179e-01, -1.88707530e+00,  4.36460826e-01,  2.52051798e+00,\n",
       "        4.45918994e-01, -3.22037726e+00,  1.14708849e+00, -4.02673562e-01,\n",
       "        9.00715629e-01,  1.29755220e+00, -1.83896595e-02, -1.94243771e+00,\n",
       "       -2.07823298e-01, -3.89069308e-01,  5.09961340e-01,  1.90272627e-03,\n",
       "       -3.88528957e-01, -4.90427883e-01, -1.01960013e+00,  9.68243981e-01,\n",
       "       -3.09642660e-01,  4.58385689e-02,  1.95240502e+00, -1.87730522e+00,\n",
       "       -2.32564852e-01,  9.66779152e-01,  3.15759256e-01, -1.72155107e-01,\n",
       "       -1.09532872e+00,  8.49237175e-01, -9.90924887e-01,  6.20792663e-01,\n",
       "        4.45509852e-01, -1.40579582e+00, -1.36751113e-01, -1.13995273e+00,\n",
       "        5.45850205e-01,  2.88760071e-01, -2.74639834e+00, -1.20057368e-01,\n",
       "        9.09212374e-02, -4.91077996e-01, -3.63872294e-01,  1.93504953e-01,\n",
       "       -1.05763993e+00,  7.77112560e-01, -4.19973526e-01, -3.16205425e-02,\n",
       "       -6.39035403e-01, -1.89746908e+00, -1.28288559e-01, -1.03137226e+00,\n",
       "        1.44127404e+00,  1.02368642e+00,  7.41588376e-01,  3.83912059e-01,\n",
       "       -1.88865595e+00,  8.60396885e-01, -2.26103126e-01, -1.35538904e-01,\n",
       "       -6.58875625e-01, -1.77000371e+00, -2.73861790e-01,  4.36856513e-01,\n",
       "       -2.63203134e+00, -4.30907264e-01,  5.38182699e-01, -3.61126906e-01,\n",
       "       -9.83576945e-01, -9.58321884e-01, -1.03934935e+00,  4.87922544e-02,\n",
       "        2.05201984e-01, -2.27253355e-01,  3.77007634e-02, -6.42496163e-01,\n",
       "        1.40406002e-01,  8.80634160e-01,  1.18121908e+00, -4.23082893e-01,\n",
       "        8.17769053e-01,  1.47270201e+00, -1.89441028e+00, -5.85731108e-01,\n",
       "       -1.02418286e+00,  1.12484439e+00, -3.41888760e-01,  1.77172756e+00,\n",
       "        6.56432519e-01,  2.66161999e-01,  3.29884948e-01,  1.40216804e+00,\n",
       "        7.34404947e-01, -8.20149398e-01,  6.03515184e-01, -6.27176856e-01,\n",
       "        2.92966360e-01, -1.23690574e+00,  1.50287436e+00, -1.19916475e+00,\n",
       "       -2.89606006e-01, -7.88277544e-01, -8.39090126e-01,  5.34797200e-01,\n",
       "       -6.58553104e-01,  1.37034273e-01, -4.58677384e-01,  1.81530873e-01,\n",
       "        1.76446071e-01,  4.28015093e-01, -1.96791718e-01,  8.46718504e-01,\n",
       "        3.25904686e-01, -1.25136326e+00,  3.32453604e-01, -1.81988159e-01,\n",
       "       -2.08145022e-01, -5.87735729e-02,  2.03458020e+00, -1.83239517e+00,\n",
       "        4.87542686e-01,  2.42000439e-01, -4.71065229e-01, -2.73316800e-01,\n",
       "       -2.55104639e-01,  1.06120193e+00,  7.36144738e-01, -5.88231660e-01,\n",
       "       -1.77131464e-01, -4.76389051e-01,  2.67373496e-01, -1.90028336e-01,\n",
       "        7.52779112e-01,  1.37159708e+00,  6.22261728e-01,  1.36676624e-02,\n",
       "        1.86747782e-01, -4.86579902e-01,  2.98193318e-01,  9.91892158e-01,\n",
       "       -7.13784023e-02, -9.55164369e-01,  1.08816942e+00,  9.17797832e-01,\n",
       "        1.12270265e+00,  1.45074091e+00, -1.03926682e+00,  3.18514063e-01])"
      ]
     },
     "execution_count": 242,
     "metadata": {},
     "output_type": "execute_result"
    }
   ],
   "source": [
    "nums"
   ]
  },
  {
   "cell_type": "markdown",
   "metadata": {},
   "source": [
    "<font size=\"4\">Probability density function</font>\n",
    "<br><font size=\"3\">scipy.stats.norm -> normal distribution</font>\n",
    "<br><font size=\"3\">https://docs.scipy.org/doc/scipy/reference/generated/scipy.stats.norm.html</font>"
   ]
  },
  {
   "cell_type": "code",
   "execution_count": 6,
   "metadata": {},
   "outputs": [],
   "source": [
    "# Probability density function\n",
    "# d for density (ex. dnorm, dbinom)\n",
    "# the mean weight of 190year-old males = 78.2, standard error of the mean = 1.3, sample account = 270\n",
    "# Caculate P(X=70)\n",
    "\n",
    "sample = 270\n",
    "std_err_mean = 1.3\n",
    "mean_weight = 78.2\n",
    "\n",
    "est_pop_sd = std_err_mean * math.sqrt(sample)\n",
    "r('p <- dnorm(70, mean=%f, sd=%f)'%(mean_weight, est_pop_sd))\n",
    "p = r['p'][0]"
   ]
  },
  {
   "cell_type": "code",
   "execution_count": 7,
   "metadata": {},
   "outputs": [
    {
     "data": {
      "text/plain": [
       "0.017349468896716586"
      ]
     },
     "execution_count": 7,
     "metadata": {},
     "output_type": "execute_result"
    }
   ],
   "source": [
    "p # P(X=70)"
   ]
  },
  {
   "cell_type": "code",
   "execution_count": 6,
   "metadata": {},
   "outputs": [],
   "source": [
    "from scipy.stats import norm # probability density function\n",
    "import matplotlib.pyplot as plt\n",
    "import seaborn as sb"
   ]
  },
  {
   "cell_type": "code",
   "execution_count": 20,
   "metadata": {},
   "outputs": [
    {
     "name": "stderr",
     "output_type": "stream",
     "text": [
      "/home/users/hwangzi/.local/lib/python3.6/site-packages/seaborn/_decorators.py:43: FutureWarning: Pass the following variables as keyword args: x, y. From version 0.12, the only valid positional argument will be `data`, and passing other arguments without an explicit keyword will result in an error or misinterpretation.\n",
      "  FutureWarning\n"
     ]
    },
    {
     "data": {
      "text/plain": [
       "<AxesSubplot:>"
      ]
     },
     "execution_count": 20,
     "metadata": {},
     "output_type": "execute_result"
    },
    {
     "data": {
      "image/png": "[encoded data removed]",
      "text/plain": [
       "<Figure size 432x288 with 1 Axes>"
      ]
     },
     "metadata": {},
     "output_type": "display_data"
    }
   ],
   "source": [
    "# curve(dnorm(x, mean, sd), from=mean_weight-3*est_pop_sd, to=mean_weight+3*est_pop_sd, color)\n",
    "\n",
    "data=np.arange(mean_weight-3*est_pop_sd,mean_weight+3*est_pop_sd,0.01)\n",
    "pdf=norm.pdf(data, loc=mean_weight, scale=est_pop_sd)\n",
    "\n",
    "sb.set_style('whitegrid')\n",
    "sb.lineplot(data, pdf , color = 'black')"
   ]
  },
  {
   "cell_type": "code",
   "execution_count": 16,
   "metadata": {},
   "outputs": [
    {
     "data": {
      "text/plain": [
       "0.017349469074898805"
      ]
     },
     "execution_count": 16,
     "metadata": {},
     "output_type": "execute_result"
    }
   ],
   "source": [
    "# dnorm(70, mean=mean_weight, sd=est_pop_sd)\n",
    "norm.pdf(70, loc=mean_weight, scale=est_pop_sd)"
   ]
  },
  {
   "cell_type": "markdown",
   "metadata": {},
   "source": [
    "<font size=\"4\">Cumulative distribution function</font>"
   ]
  },
  {
   "cell_type": "code",
   "execution_count": 20,
   "metadata": {},
   "outputs": [],
   "source": [
    "# Cumulative distribution function\n",
    "# d for density (ex. dnorm, dbinom)\n",
    "# the mean weight of 190year-old males = 78.2, standard error of the mean = 1.3, sample account = 270\n",
    "# Caculate P(X<70)\n",
    "\n",
    "sample = 270\n",
    "std_err_mean = 1.3\n",
    "mean_weight = 78.2\n",
    "\n",
    "est_pop_sd = std_err_mean * math.sqrt(sample)\n",
    "r('p1 <- pnorm(70, mean=%f, sd=%f)'%(mean_weight, est_pop_sd))\n",
    "r('p2 <- pnorm(70, mean=%f, sd=%f, lower.tail=F)'%(mean_weight, est_pop_sd))\n",
    "p_low = r['p1'][0]\n",
    "p_high = r['p2'][0]"
   ]
  },
  {
   "cell_type": "code",
   "execution_count": 18,
   "metadata": {},
   "outputs": [
    {
     "data": {
      "text/plain": [
       "0.35053594682010086"
      ]
     },
     "execution_count": 18,
     "metadata": {},
     "output_type": "execute_result"
    }
   ],
   "source": [
    "p_low # P(X<70)"
   ]
  },
  {
   "cell_type": "code",
   "execution_count": 21,
   "metadata": {},
   "outputs": [
    {
     "data": {
      "text/plain": [
       "0.6494640531798992"
      ]
     },
     "execution_count": 21,
     "metadata": {},
     "output_type": "execute_result"
    }
   ],
   "source": [
    "p_high"
   ]
  },
  {
   "cell_type": "code",
   "execution_count": 22,
   "metadata": {},
   "outputs": [
    {
     "data": {
      "text/plain": [
       "0.35053594510649044"
      ]
     },
     "execution_count": 22,
     "metadata": {},
     "output_type": "execute_result"
    }
   ],
   "source": [
    "# pnorm(70, mean=mean_weight, sd=est_pop_sd)\n",
    "# P(X<70)\n",
    "norm.cdf(70, loc=mean_weight, scale=est_pop_sd)"
   ]
  },
  {
   "cell_type": "markdown",
   "metadata": {},
   "source": [
    "<font size=\"4\">Quantiles</font>"
   ]
  },
  {
   "cell_type": "code",
   "execution_count": 30,
   "metadata": {},
   "outputs": [],
   "source": [
    "# Quantiles\n",
    "# q for quantiles (ex. qnorm, qbinom)\n",
    "\n",
    "r('q <- qnorm(c(0.25,0.5,0.75), mean=%f, sd=%f)'%(mean_weight, est_pop_sd))\n",
    "\n",
    "quantiles = r['q']"
   ]
  },
  {
   "cell_type": "code",
   "execution_count": 34,
   "metadata": {},
   "outputs": [
    {
     "data": {
      "text/plain": [
       "array([63.79210304, 78.2       , 92.60789696])"
      ]
     },
     "execution_count": 34,
     "metadata": {},
     "output_type": "execute_result"
    }
   ],
   "source": [
    "quantiles"
   ]
  },
  {
   "cell_type": "code",
   "execution_count": 35,
   "metadata": {},
   "outputs": [
    {
     "data": {
      "text/plain": [
       "array([63.79210321, 78.2       , 92.60789679])"
      ]
     },
     "execution_count": 35,
     "metadata": {},
     "output_type": "execute_result"
    }
   ],
   "source": [
    "# qnorm(c(0.25,0.5,0.75), mean=mean_weight, sd=est_pop_sd)\n",
    "norm.ppf([0.25,0.5,0.75], loc=mean_weight, scale=est_pop_sd)"
   ]
  },
  {
   "cell_type": "markdown",
   "metadata": {},
   "source": [
    "<font size=\"4\">Normal distribution</font>"
   ]
  },
  {
   "cell_type": "code",
   "execution_count": null,
   "metadata": {},
   "outputs": [],
   "source": [
    "# > curve(dnorm(x), from=-7, to=7)\n",
    "# > curve(dnorm(x,mean=0,sd=1.5),from=-7,to=7,add=T,col=\"red\")\n",
    "# > curve(dnorm(x,mean=0,sd=2),from=-7,to=7,add=T,col=\"blue\")"
   ]
  },
  {
   "cell_type": "code",
   "execution_count": 19,
   "metadata": {},
   "outputs": [
    {
     "name": "stderr",
     "output_type": "stream",
     "text": [
      "/home/users/hwangzi/.local/lib/python3.6/site-packages/seaborn/_decorators.py:43: FutureWarning: Pass the following variables as keyword args: x, y. From version 0.12, the only valid positional argument will be `data`, and passing other arguments without an explicit keyword will result in an error or misinterpretation.\n",
      "  FutureWarning\n",
      "/home/users/hwangzi/.local/lib/python3.6/site-packages/seaborn/_decorators.py:43: FutureWarning: Pass the following variables as keyword args: x, y. From version 0.12, the only valid positional argument will be `data`, and passing other arguments without an explicit keyword will result in an error or misinterpretation.\n",
      "  FutureWarning\n",
      "/home/users/hwangzi/.local/lib/python3.6/site-packages/seaborn/_decorators.py:43: FutureWarning: Pass the following variables as keyword args: x, y. From version 0.12, the only valid positional argument will be `data`, and passing other arguments without an explicit keyword will result in an error or misinterpretation.\n",
      "  FutureWarning\n"
     ]
    },
    {
     "data": {
      "text/plain": [
       "<AxesSubplot:>"
      ]
     },
     "execution_count": 19,
     "metadata": {},
     "output_type": "execute_result"
    },
    {
     "data": {
      "image/png": "[encoded data removed]",
      "text/plain": [
       "<Figure size 432x288 with 1 Axes>"
      ]
     },
     "metadata": {},
     "output_type": "display_data"
    }
   ],
   "source": [
    "data=np.arange(-7,7,0.01)\n",
    "pdf1=norm.pdf(data) # mean=0, standard deviation=1\n",
    "pdf2=norm.pdf(data, loc=0, scale=1.5)\n",
    "pdf3=norm.pdf(data, loc=0, scale=2)\n",
    "\n",
    "\n",
    "\n",
    "sb.set_style('whitegrid')\n",
    "sb.lineplot(data, pdf1, color = 'black')\n",
    "sb.lineplot(data, pdf2, color = 'red')\n",
    "sb.lineplot(data, pdf3, color = 'blue')"
   ]
  },
  {
   "cell_type": "markdown",
   "metadata": {},
   "source": [
    "<font size=\"4\">Binomial distribution</font>\n",
    "<br><font size=\"3\">scipy.stats.binom -> binomial distribution</font>\n",
    "<br><font size=\"3\">https://docs.scipy.org/doc/scipy/reference/generated/scipy.stats.binom.html</font>"
   ]
  },
  {
   "cell_type": "code",
   "execution_count": 14,
   "metadata": {},
   "outputs": [],
   "source": [
    "# > x=0:10\n",
    "# > plot(x,dbinom(x,10,0.5), type=\"h\", col=\"red\")\n",
    "# > plot(x,pbinom(x,10,0.5), type=\"s\", col=\"red\")"
   ]
  },
  {
   "cell_type": "code",
   "execution_count": 16,
   "metadata": {},
   "outputs": [],
   "source": [
    "from scipy.stats import binom"
   ]
  },
  {
   "cell_type": "code",
   "execution_count": 21,
   "metadata": {},
   "outputs": [
    {
     "name": "stderr",
     "output_type": "stream",
     "text": [
      "/home/users/hwangzi/.local/lib/python3.6/site-packages/seaborn/_decorators.py:43: FutureWarning: Pass the following variables as keyword args: x, y. From version 0.12, the only valid positional argument will be `data`, and passing other arguments without an explicit keyword will result in an error or misinterpretation.\n",
      "  FutureWarning\n"
     ]
    },
    {
     "data": {
      "text/plain": [
       "<AxesSubplot:>"
      ]
     },
     "execution_count": 21,
     "metadata": {},
     "output_type": "execute_result"
    },
    {
     "data": {
      "image/png": "[encoded data removed]",
      "text/plain": [
       "<Figure size 432x288 with 1 Axes>"
      ]
     },
     "metadata": {},
     "output_type": "display_data"
    }
   ],
   "source": [
    "n = 10\n",
    "p = 0.5\n",
    "\n",
    "data=np.arange(0,10,0.01)\n",
    "pmf=binom.pmf(data, n, p)\n",
    "\n",
    "sb.set_style('whitegrid')\n",
    "sb.lineplot(data, pmf, color = 'blue')"
   ]
  },
  {
   "cell_type": "code",
   "execution_count": 22,
   "metadata": {},
   "outputs": [],
   "source": [
    "# Ex2\n",
    "# the distribution of mean intensities of cDNA spots corresponding to genes that are expressed can be assumed to be normal.\n",
    "# mean of this distribution is 1,000\n",
    "# standard deviation is 150\n",
    "# What is probability that an expressed gene has a spot with a mean intensity of less than 850?"
   ]
  },
  {
   "cell_type": "code",
   "execution_count": 23,
   "metadata": {},
   "outputs": [
    {
     "data": {
      "text/plain": [
       "0.15865525393145705"
      ]
     },
     "execution_count": 23,
     "metadata": {},
     "output_type": "execute_result"
    }
   ],
   "source": [
    "r('res <- pnorm(850, mean=1000, sd=150)')\n",
    "res = r['res'][0]\n",
    "res"
   ]
  },
  {
   "cell_type": "code",
   "execution_count": 24,
   "metadata": {},
   "outputs": [
    {
     "data": {
      "text/plain": [
       "0.15865525393145707"
      ]
     },
     "execution_count": 24,
     "metadata": {},
     "output_type": "execute_result"
    }
   ],
   "source": [
    "norm.cdf(850, loc=1000, scale=150)"
   ]
  },
  {
   "cell_type": "code",
   "execution_count": 25,
   "metadata": {},
   "outputs": [],
   "source": [
    "# Ex3\n",
    "# the distribution of mean intensities of cDNA spots corresponding to genes that are expressed can be assumed to be normal.\n",
    "# mean of this distribution is 400\n",
    "# standard deviation is 150\n",
    "# What is probability that an expressed gene has a spot with a mean intensity of more than or equal to 700?"
   ]
  },
  {
   "cell_type": "code",
   "execution_count": 27,
   "metadata": {},
   "outputs": [
    {
     "data": {
      "text/plain": [
       "0.02275013194817921"
      ]
     },
     "execution_count": 27,
     "metadata": {},
     "output_type": "execute_result"
    }
   ],
   "source": [
    "r('res <- 1-pnorm(700, mean=400, sd=150)')\n",
    "res = r['res'][0]\n",
    "res"
   ]
  },
  {
   "cell_type": "code",
   "execution_count": 28,
   "metadata": {},
   "outputs": [
    {
     "data": {
      "text/plain": [
       "0.02275013194817921"
      ]
     },
     "execution_count": 28,
     "metadata": {},
     "output_type": "execute_result"
    }
   ],
   "source": [
    "1-norm.cdf(700, loc=400, scale=150)"
   ]
  },
  {
   "cell_type": "markdown",
   "metadata": {},
   "source": [
    "<font size=\"4\">Central limit theorm</font>\n",
    "<br><font size=\"3\">scipy.stats.chi2 -> chi square distribution</font>\n",
    "<br><font size=\"3\">https://docs.scipy.org/doc/scipy/reference/generated/scipy.stats.chi2.html</font>"
   ]
  },
  {
   "cell_type": "code",
   "execution_count": 33,
   "metadata": {},
   "outputs": [],
   "source": [
    "from scipy.stats import chi2"
   ]
  },
  {
   "cell_type": "code",
   "execution_count": 34,
   "metadata": {},
   "outputs": [
    {
     "name": "stderr",
     "output_type": "stream",
     "text": [
      "/home/users/hwangzi/.local/lib/python3.6/site-packages/seaborn/_decorators.py:43: FutureWarning: Pass the following variables as keyword args: x, y. From version 0.12, the only valid positional argument will be `data`, and passing other arguments without an explicit keyword will result in an error or misinterpretation.\n",
      "  FutureWarning\n"
     ]
    },
    {
     "data": {
      "text/plain": [
       "<AxesSubplot:>"
      ]
     },
     "execution_count": 34,
     "metadata": {},
     "output_type": "execute_result"
    },
    {
     "data": {
      "image/png": "[encoded data removed]",
      "text/plain": [
       "<Figure size 432x288 with 1 Axes>"
      ]
     },
     "metadata": {},
     "output_type": "display_data"
    }
   ],
   "source": [
    "x = np.arange(0,30,0.1)\n",
    "df = 5\n",
    "\n",
    "pdf = chi2.pdf(x, df)\n",
    "\n",
    "sb.set_style('whitegrid')\n",
    "sb.lineplot(x, pdf, color = 'blue')"
   ]
  },
  {
   "cell_type": "code",
   "execution_count": 45,
   "metadata": {},
   "outputs": [],
   "source": [
    "from rpy2.robjects import vectors\n",
    "r_stats = importr(\"stats\")"
   ]
  },
  {
   "cell_type": "code",
   "execution_count": 84,
   "metadata": {},
   "outputs": [
    {
     "name": "stderr",
     "output_type": "stream",
     "text": [
      "/home/users/hwangzi/.local/lib/python3.6/site-packages/seaborn/_decorators.py:43: FutureWarning: Pass the following variables as keyword args: x, y. From version 0.12, the only valid positional argument will be `data`, and passing other arguments without an explicit keyword will result in an error or misinterpretation.\n",
      "  FutureWarning\n",
      "/home/users/hwangzi/.local/lib/python3.6/site-packages/seaborn/_decorators.py:43: FutureWarning: Pass the following variables as keyword args: x, y. From version 0.12, the only valid positional argument will be `data`, and passing other arguments without an explicit keyword will result in an error or misinterpretation.\n",
      "  FutureWarning\n",
      "/home/users/hwangzi/.local/lib/python3.6/site-packages/seaborn/_decorators.py:43: FutureWarning: Pass the following variables as keyword args: x, y. From version 0.12, the only valid positional argument will be `data`, and passing other arguments without an explicit keyword will result in an error or misinterpretation.\n",
      "  FutureWarning\n",
      "/home/users/hwangzi/.local/lib/python3.6/site-packages/seaborn/_decorators.py:43: FutureWarning: Pass the following variables as keyword args: x, y. From version 0.12, the only valid positional argument will be `data`, and passing other arguments without an explicit keyword will result in an error or misinterpretation.\n",
      "  FutureWarning\n"
     ]
    },
    {
     "data": {
      "image/png": "[encoded data removed]",
      "text/plain": [
       "<Figure size 1080x1440 with 4 Axes>"
      ]
     },
     "metadata": {},
     "output_type": "display_data"
    }
   ],
   "source": [
    "fig, ax = plt.subplots(nrows=4, figsize=(15,20))\n",
    "\n",
    "for i in range(2,6):\n",
    "    sample_size = 5**i\n",
    "    rvs = vectors.IntVector(chi2.rvs(df,size=sample_size))\n",
    "    r_stats.density(rvs, adjust=1, bw=10) # Using density function in R\n",
    "    \n",
    "    sb.set_style('whitegrid')\n",
    "    sb.lineplot(np.array(r_stats.density(rvs)[0]), np.array(r_stats.density(rvs)[1]), color = 'blue', ax=ax[i-2]).set(title=\"sample size %d\"%(sample_size))"
   ]
  }
 ],
 "metadata": {
  "kernelspec": {
   "display_name": "Python (study)",
   "language": "python",
   "name": "study"
  },
  "language_info": {
   "codemirror_mode": {
    "name": "ipython",
    "version": 3
   },
   "file_extension": ".py",
   "mimetype": "text/x-python",
   "name": "python",
   "nbconvert_exporter": "python",
   "pygments_lexer": "ipython3",
   "version": "3.6.7"
  }
 },
 "nbformat": 4,
 "nbformat_minor": 2
}
