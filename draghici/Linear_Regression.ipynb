{
 "cells": [
  {
   "cell_type": "markdown",
   "metadata": {},
   "source": [
    "<font size=\"4\">Linear Regression</font>"
   ]
  },
  {
   "cell_type": "code",
   "execution_count": 43,
   "metadata": {},
   "outputs": [],
   "source": [
    "import numpy as np\n",
    "import pandas as pd\n",
    "from sklearn.linear_model import LinearRegression"
   ]
  },
  {
   "cell_type": "code",
   "execution_count": 108,
   "metadata": {},
   "outputs": [
    {
     "data": {
      "text/html": [
       "<div>\n",
       "<style scoped>\n",
       "    .dataframe tbody tr th:only-of-type {\n",
       "        vertical-align: middle;\n",
       "    }\n",
       "\n",
       "    .dataframe tbody tr th {\n",
       "        vertical-align: top;\n",
       "    }\n",
       "\n",
       "    .dataframe thead th {\n",
       "        text-align: right;\n",
       "    }\n",
       "</style>\n",
       "<table border=\"1\" class=\"dataframe\">\n",
       "  <thead>\n",
       "    <tr style=\"text-align: right;\">\n",
       "      <th></th>\n",
       "      <th>y</th>\n",
       "      <th>AGE</th>\n",
       "    </tr>\n",
       "  </thead>\n",
       "  <tbody>\n",
       "    <tr>\n",
       "      <th>0</th>\n",
       "      <td>100</td>\n",
       "      <td>20</td>\n",
       "    </tr>\n",
       "    <tr>\n",
       "      <th>1</th>\n",
       "      <td>120</td>\n",
       "      <td>24</td>\n",
       "    </tr>\n",
       "    <tr>\n",
       "      <th>2</th>\n",
       "      <td>135</td>\n",
       "      <td>25</td>\n",
       "    </tr>\n",
       "    <tr>\n",
       "      <th>3</th>\n",
       "      <td>150</td>\n",
       "      <td>27</td>\n",
       "    </tr>\n",
       "    <tr>\n",
       "      <th>4</th>\n",
       "      <td>160</td>\n",
       "      <td>30</td>\n",
       "    </tr>\n",
       "    <tr>\n",
       "      <th>5</th>\n",
       "      <td>190</td>\n",
       "      <td>35</td>\n",
       "    </tr>\n",
       "    <tr>\n",
       "      <th>6</th>\n",
       "      <td>210</td>\n",
       "      <td>40</td>\n",
       "    </tr>\n",
       "    <tr>\n",
       "      <th>7</th>\n",
       "      <td>260</td>\n",
       "      <td>41</td>\n",
       "    </tr>\n",
       "    <tr>\n",
       "      <th>8</th>\n",
       "      <td>290</td>\n",
       "      <td>45</td>\n",
       "    </tr>\n",
       "    <tr>\n",
       "      <th>9</th>\n",
       "      <td>300</td>\n",
       "      <td>48</td>\n",
       "    </tr>\n",
       "  </tbody>\n",
       "</table>\n",
       "</div>"
      ],
      "text/plain": [
       "     y  AGE\n",
       "0  100   20\n",
       "1  120   24\n",
       "2  135   25\n",
       "3  150   27\n",
       "4  160   30\n",
       "5  190   35\n",
       "6  210   40\n",
       "7  260   41\n",
       "8  290   45\n",
       "9  300   48"
      ]
     },
     "execution_count": 108,
     "metadata": {},
     "output_type": "execute_result"
    }
   ],
   "source": [
    "# > y=c(100,120,135,150,160,190,210,260,290,300)\n",
    "# > AGE=c(20, 24, 25,27,30,35,40,41,45,48)\n",
    "# > dat=data.frame(y,AGE)\n",
    "\n",
    "y=[100,120,135,150,160,190,210,260,290,300]\n",
    "age = [20, 24, 25,27,30,35,40,41,45,48]\n",
    "dat = [[i,j] for i,j in zip(y,age)]\n",
    "dat_df = pd.DataFrame(dat, columns=[\"y\",\"AGE\"])\n",
    "dat_df"
   ]
  },
  {
   "cell_type": "code",
   "execution_count": 45,
   "metadata": {},
   "outputs": [
    {
     "data": {
      "text/plain": [
       "LinearRegression()"
      ]
     },
     "execution_count": 45,
     "metadata": {},
     "output_type": "execute_result"
    }
   ],
   "source": [
    "# > mymod=lm(formula=\"y~AGE\", data=dat)\n",
    "\n",
    "model = LinearRegression()\n",
    "x = dat_df[[\"AGE\"]]\n",
    "y = dat_df[\"y\"]\n",
    "model.fit(x, y)\n"
   ]
  },
  {
   "cell_type": "code",
   "execution_count": 109,
   "metadata": {},
   "outputs": [
    {
     "name": "stdout",
     "output_type": "stream",
     "text": [
      "                            OLS Regression Results                            \n",
      "==============================================================================\n",
      "Dep. Variable:                      y   R-squared:                       0.966\n",
      "Model:                            OLS   Adj. R-squared:                  0.962\n",
      "Method:                 Least Squares   F-statistic:                     228.1\n",
      "Date:                Tue, 14 Jun 2022   Prob (F-statistic):           3.65e-07\n",
      "Time:                        17:11:28   Log-Likelihood:                -39.423\n",
      "No. Observations:                  10   AIC:                             82.85\n",
      "Df Residuals:                       8   BIC:                             83.45\n",
      "Df Model:                           1                                         \n",
      "Covariance Type:            nonrobust                                         \n",
      "==============================================================================\n",
      "                 coef    std err          t      P>|t|      [0.025      0.975]\n",
      "------------------------------------------------------------------------------\n",
      "Intercept    -51.5490     16.685     -3.090      0.015     -90.024     -13.074\n",
      "AGE            7.2552      0.480     15.104      0.000       6.148       8.363\n",
      "==============================================================================\n",
      "Omnibus:                        4.162   Durbin-Watson:                   1.640\n",
      "Prob(Omnibus):                  0.125   Jarque-Bera (JB):                1.607\n",
      "Skew:                          -0.972   Prob(JB):                        0.448\n",
      "Kurtosis:                       3.283   Cond. No.                         132.\n",
      "==============================================================================\n",
      "\n",
      "Notes:\n",
      "[1] Standard Errors assume that the covariance matrix of the errors is correctly specified.\n"
     ]
    },
    {
     "name": "stderr",
     "output_type": "stream",
     "text": [
      "/home/users/hwangzi/tools/anaconda3/envs/study/lib/python3.6/site-packages/scipy/stats/stats.py:1394: UserWarning: kurtosistest only valid for n>=20 ... continuing anyway, n=10\n",
      "  \"anyway, n=%i\" % int(n))\n"
     ]
    }
   ],
   "source": [
    "from statsmodels.formula.api import ols\n",
    "\n",
    "model = ols(\"y ~ AGE\", dat_df).fit()\n",
    "print(model.summary())"
   ]
  },
  {
   "cell_type": "code",
   "execution_count": 46,
   "metadata": {},
   "outputs": [
    {
     "name": "stdout",
     "output_type": "stream",
     "text": [
      "coefficient of determination: 0.9661209404464404\n"
     ]
    }
   ],
   "source": [
    "r_sq = model.score(x,y)\n",
    "print(f\"coefficient of determination: {r_sq}\")"
   ]
  },
  {
   "cell_type": "code",
   "execution_count": 47,
   "metadata": {},
   "outputs": [
    {
     "name": "stdout",
     "output_type": "stream",
     "text": [
      "intercept: -51.548961424332276\n",
      "slope: [7.25519288]\n"
     ]
    }
   ],
   "source": [
    "print(f\"intercept: {model.intercept_}\")\n",
    "print(f\"slope: {model.coef_}\")"
   ]
  },
  {
   "cell_type": "code",
   "execution_count": 48,
   "metadata": {},
   "outputs": [
    {
     "name": "stdout",
     "output_type": "stream",
     "text": [
      "predicted response:\n",
      "[ 93.55489614 122.57566766 129.83086053 144.34124629 166.10682493\n",
      " 202.38278932 238.65875371 245.91394659 274.9347181  296.70029674]\n",
      "input response:\n",
      "0    100\n",
      "1    120\n",
      "2    135\n",
      "3    150\n",
      "4    160\n",
      "5    190\n",
      "6    210\n",
      "7    260\n",
      "8    290\n",
      "9    300\n",
      "Name: y, dtype: int64\n"
     ]
    }
   ],
   "source": [
    "# > yhat = predict(mymod,dat)\n",
    "y_pred = model.predict(x)\n",
    "print(f\"predicted response:\\n{y_pred}\")\n",
    "print(f\"input response:\\n{y}\")"
   ]
  },
  {
   "cell_type": "code",
   "execution_count": 49,
   "metadata": {},
   "outputs": [
    {
     "data": {
      "image/png": "[encoded data removed]",
      "text/plain": [
       "<Figure size 432x288 with 1 Axes>"
      ]
     },
     "metadata": {
      "needs_background": "light"
     },
     "output_type": "display_data"
    }
   ],
   "source": [
    "import matplotlib.pyplot as plt\n",
    "\n",
    "\n",
    "plt.scatter(x,y,color='blue')\n",
    "plt.plot(x,y_pred,color='red',linewidth=3)\n",
    "plt.show()"
   ]
  },
  {
   "cell_type": "markdown",
   "metadata": {},
   "source": [
    "<font size=\"4\">Limitation of linear regression</font>"
   ]
  },
  {
   "cell_type": "code",
   "execution_count": 50,
   "metadata": {},
   "outputs": [
    {
     "data": {
      "text/html": [
       "<div>\n",
       "<style scoped>\n",
       "    .dataframe tbody tr th:only-of-type {\n",
       "        vertical-align: middle;\n",
       "    }\n",
       "\n",
       "    .dataframe tbody tr th {\n",
       "        vertical-align: top;\n",
       "    }\n",
       "\n",
       "    .dataframe thead th {\n",
       "        text-align: right;\n",
       "    }\n",
       "</style>\n",
       "<table border=\"1\" class=\"dataframe\">\n",
       "  <thead>\n",
       "    <tr style=\"text-align: right;\">\n",
       "      <th></th>\n",
       "      <th>x</th>\n",
       "      <th>y</th>\n",
       "    </tr>\n",
       "  </thead>\n",
       "  <tbody>\n",
       "    <tr>\n",
       "      <th>0</th>\n",
       "      <td>-10</td>\n",
       "      <td>57</td>\n",
       "    </tr>\n",
       "    <tr>\n",
       "      <th>1</th>\n",
       "      <td>-9</td>\n",
       "      <td>39</td>\n",
       "    </tr>\n",
       "    <tr>\n",
       "      <th>2</th>\n",
       "      <td>-8</td>\n",
       "      <td>23</td>\n",
       "    </tr>\n",
       "    <tr>\n",
       "      <th>3</th>\n",
       "      <td>-7</td>\n",
       "      <td>9</td>\n",
       "    </tr>\n",
       "    <tr>\n",
       "      <th>4</th>\n",
       "      <td>-6</td>\n",
       "      <td>-3</td>\n",
       "    </tr>\n",
       "    <tr>\n",
       "      <th>5</th>\n",
       "      <td>-5</td>\n",
       "      <td>-13</td>\n",
       "    </tr>\n",
       "    <tr>\n",
       "      <th>6</th>\n",
       "      <td>-4</td>\n",
       "      <td>-21</td>\n",
       "    </tr>\n",
       "    <tr>\n",
       "      <th>7</th>\n",
       "      <td>-3</td>\n",
       "      <td>-27</td>\n",
       "    </tr>\n",
       "    <tr>\n",
       "      <th>8</th>\n",
       "      <td>-2</td>\n",
       "      <td>-31</td>\n",
       "    </tr>\n",
       "    <tr>\n",
       "      <th>9</th>\n",
       "      <td>-1</td>\n",
       "      <td>-33</td>\n",
       "    </tr>\n",
       "    <tr>\n",
       "      <th>10</th>\n",
       "      <td>0</td>\n",
       "      <td>-33</td>\n",
       "    </tr>\n",
       "    <tr>\n",
       "      <th>11</th>\n",
       "      <td>1</td>\n",
       "      <td>-31</td>\n",
       "    </tr>\n",
       "    <tr>\n",
       "      <th>12</th>\n",
       "      <td>2</td>\n",
       "      <td>-27</td>\n",
       "    </tr>\n",
       "    <tr>\n",
       "      <th>13</th>\n",
       "      <td>3</td>\n",
       "      <td>-21</td>\n",
       "    </tr>\n",
       "    <tr>\n",
       "      <th>14</th>\n",
       "      <td>4</td>\n",
       "      <td>-13</td>\n",
       "    </tr>\n",
       "    <tr>\n",
       "      <th>15</th>\n",
       "      <td>5</td>\n",
       "      <td>-3</td>\n",
       "    </tr>\n",
       "    <tr>\n",
       "      <th>16</th>\n",
       "      <td>6</td>\n",
       "      <td>9</td>\n",
       "    </tr>\n",
       "    <tr>\n",
       "      <th>17</th>\n",
       "      <td>7</td>\n",
       "      <td>23</td>\n",
       "    </tr>\n",
       "    <tr>\n",
       "      <th>18</th>\n",
       "      <td>8</td>\n",
       "      <td>39</td>\n",
       "    </tr>\n",
       "    <tr>\n",
       "      <th>19</th>\n",
       "      <td>9</td>\n",
       "      <td>57</td>\n",
       "    </tr>\n",
       "  </tbody>\n",
       "</table>\n",
       "</div>"
      ],
      "text/plain": [
       "     x   y\n",
       "0  -10  57\n",
       "1   -9  39\n",
       "2   -8  23\n",
       "3   -7   9\n",
       "4   -6  -3\n",
       "5   -5 -13\n",
       "6   -4 -21\n",
       "7   -3 -27\n",
       "8   -2 -31\n",
       "9   -1 -33\n",
       "10   0 -33\n",
       "11   1 -31\n",
       "12   2 -27\n",
       "13   3 -21\n",
       "14   4 -13\n",
       "15   5  -3\n",
       "16   6   9\n",
       "17   7  23\n",
       "18   8  39\n",
       "19   9  57"
      ]
     },
     "execution_count": 50,
     "metadata": {},
     "output_type": "execute_result"
    }
   ],
   "source": [
    "# > x=seq(-10,9,by=1)\n",
    "# > y=x^2+x-33\n",
    "# > newdat=data.frame(x,y)\n",
    "# > newdat\n",
    "\n",
    "x_dat = [i for i in range(-10,10)]\n",
    "y_dat = [i**2+i-33 for i in x_dat]\n",
    "new_dat = pd.DataFrame(zip(x_dat,y_dat), columns=[\"x\",\"y\"])\n",
    "new_dat"
   ]
  },
  {
   "cell_type": "code",
   "execution_count": 51,
   "metadata": {},
   "outputs": [
    {
     "data": {
      "text/plain": [
       "LinearRegression()"
      ]
     },
     "execution_count": 51,
     "metadata": {},
     "output_type": "execute_result"
    }
   ],
   "source": [
    "# > mymod = lm(y~x,newdat)\n",
    "\n",
    "model = LinearRegression()\n",
    "x = new_dat[[\"x\"]]\n",
    "y = new_dat[\"y\"]\n",
    "model.fit(x, y)"
   ]
  },
  {
   "cell_type": "code",
   "execution_count": 52,
   "metadata": {},
   "outputs": [
    {
     "name": "stdout",
     "output_type": "stream",
     "text": [
      "coefficient of determination: 0.0\n",
      "intercept: 4.6795556864458966e-17\n",
      "slope: [9.35911137e-17]\n"
     ]
    }
   ],
   "source": [
    "# > summary(mymod)\n",
    "r_sq = model.score(x,y)\n",
    "print(f\"coefficient of determination: {r_sq}\")\n",
    "print(f\"intercept: {model.intercept_}\")\n",
    "print(f\"slope: {model.coef_}\")"
   ]
  },
  {
   "cell_type": "code",
   "execution_count": 53,
   "metadata": {},
   "outputs": [
    {
     "name": "stdout",
     "output_type": "stream",
     "text": [
      "predicted response:\n",
      "[-8.89115580e-16 -7.95524467e-16 -7.01933353e-16 -6.08342239e-16\n",
      " -5.14751126e-16 -4.21160012e-16 -3.27568898e-16 -2.33977784e-16\n",
      " -1.40386671e-16 -4.67955569e-17  4.67955569e-17  1.40386671e-16\n",
      "  2.33977784e-16  3.27568898e-16  4.21160012e-16  5.14751126e-16\n",
      "  6.08342239e-16  7.01933353e-16  7.95524467e-16  8.89115580e-16]\n",
      "input response:\n",
      "0     57\n",
      "1     39\n",
      "2     23\n",
      "3      9\n",
      "4     -3\n",
      "5    -13\n",
      "6    -21\n",
      "7    -27\n",
      "8    -31\n",
      "9    -33\n",
      "10   -33\n",
      "11   -31\n",
      "12   -27\n",
      "13   -21\n",
      "14   -13\n",
      "15    -3\n",
      "16     9\n",
      "17    23\n",
      "18    39\n",
      "19    57\n",
      "Name: y, dtype: int64\n"
     ]
    }
   ],
   "source": [
    "# > yhat = predict(mymod,dat)\n",
    "y_pred = model.predict(x)\n",
    "print(f\"predicted response:\\n{y_pred}\")\n",
    "print(f\"input response:\\n{y}\")"
   ]
  },
  {
   "cell_type": "code",
   "execution_count": 54,
   "metadata": {},
   "outputs": [
    {
     "data": {
      "image/png": "[encoded data removed]",
      "text/plain": [
       "<Figure size 432x288 with 1 Axes>"
      ]
     },
     "metadata": {
      "needs_background": "light"
     },
     "output_type": "display_data"
    }
   ],
   "source": [
    "plt.scatter(x,y,color='blue')\n",
    "plt.plot(x,y_pred,color='red',linewidth=3)\n",
    "\n",
    "plt.show()"
   ]
  },
  {
   "cell_type": "markdown",
   "metadata": {},
   "source": [
    "<font size=\"4\">Multiple predictors and interpreting model coefficients</font>"
   ]
  },
  {
   "cell_type": "code",
   "execution_count": 99,
   "metadata": {},
   "outputs": [
    {
     "data": {
      "text/html": [
       "<div>\n",
       "<style scoped>\n",
       "    .dataframe tbody tr th:only-of-type {\n",
       "        vertical-align: middle;\n",
       "    }\n",
       "\n",
       "    .dataframe tbody tr th {\n",
       "        vertical-align: top;\n",
       "    }\n",
       "\n",
       "    .dataframe thead th {\n",
       "        text-align: right;\n",
       "    }\n",
       "</style>\n",
       "<table border=\"1\" class=\"dataframe\">\n",
       "  <thead>\n",
       "    <tr style=\"text-align: right;\">\n",
       "      <th></th>\n",
       "      <th>y</th>\n",
       "      <th>AGE</th>\n",
       "      <th>BMI</th>\n",
       "    </tr>\n",
       "  </thead>\n",
       "  <tbody>\n",
       "    <tr>\n",
       "      <th>0</th>\n",
       "      <td>100</td>\n",
       "      <td>20</td>\n",
       "      <td>40</td>\n",
       "    </tr>\n",
       "    <tr>\n",
       "      <th>1</th>\n",
       "      <td>120</td>\n",
       "      <td>24</td>\n",
       "      <td>45</td>\n",
       "    </tr>\n",
       "    <tr>\n",
       "      <th>2</th>\n",
       "      <td>135</td>\n",
       "      <td>25</td>\n",
       "      <td>24</td>\n",
       "    </tr>\n",
       "    <tr>\n",
       "      <th>3</th>\n",
       "      <td>150</td>\n",
       "      <td>27</td>\n",
       "      <td>20</td>\n",
       "    </tr>\n",
       "    <tr>\n",
       "      <th>4</th>\n",
       "      <td>160</td>\n",
       "      <td>30</td>\n",
       "      <td>26</td>\n",
       "    </tr>\n",
       "    <tr>\n",
       "      <th>5</th>\n",
       "      <td>190</td>\n",
       "      <td>35</td>\n",
       "      <td>28</td>\n",
       "    </tr>\n",
       "    <tr>\n",
       "      <th>6</th>\n",
       "      <td>210</td>\n",
       "      <td>40</td>\n",
       "      <td>21</td>\n",
       "    </tr>\n",
       "    <tr>\n",
       "      <th>7</th>\n",
       "      <td>260</td>\n",
       "      <td>41</td>\n",
       "      <td>24</td>\n",
       "    </tr>\n",
       "    <tr>\n",
       "      <th>8</th>\n",
       "      <td>290</td>\n",
       "      <td>45</td>\n",
       "      <td>20</td>\n",
       "    </tr>\n",
       "    <tr>\n",
       "      <th>9</th>\n",
       "      <td>300</td>\n",
       "      <td>48</td>\n",
       "      <td>25</td>\n",
       "    </tr>\n",
       "  </tbody>\n",
       "</table>\n",
       "</div>"
      ],
      "text/plain": [
       "     y  AGE  BMI\n",
       "0  100   20   40\n",
       "1  120   24   45\n",
       "2  135   25   24\n",
       "3  150   27   20\n",
       "4  160   30   26\n",
       "5  190   35   28\n",
       "6  210   40   21\n",
       "7  260   41   24\n",
       "8  290   45   20\n",
       "9  300   48   25"
      ]
     },
     "execution_count": 99,
     "metadata": {},
     "output_type": "execute_result"
    }
   ],
   "source": [
    "# > y=c(100,120,135,150,160,190,210,260,290,300)\n",
    "# > AGE=c(20, 24, 25,27,30,35,40,41,45,48)\n",
    "# > BMI=c(40,45,24,20,26,28,21,24,20,25)\n",
    "# > dat=data.frame(y,AGE,BMI)\n",
    "\n",
    "y=[100,120,135,150,160,190,210,260,290,300]\n",
    "AGE=[20, 24, 25,27,30,35,40,41,45,48]\n",
    "BMI=[40,45,24,20,26,28,21,24,20,25]\n",
    "dat=pd.DataFrame(zip(y,AGE,BMI),columns=[\"y\", \"AGE\", \"BMI\"])\n",
    "dat"
   ]
  },
  {
   "cell_type": "code",
   "execution_count": 100,
   "metadata": {},
   "outputs": [
    {
     "data": {
      "text/plain": [
       "LinearRegression()"
      ]
     },
     "execution_count": 100,
     "metadata": {},
     "output_type": "execute_result"
    }
   ],
   "source": [
    "# > mymod2=lm(y~AGE+BMI, dat)\n",
    "X = dat[[\"AGE\", \"BMI\"]]\n",
    "y = dat[\"y\"]\n",
    "\n",
    "model = LinearRegression()\n",
    "model.fit(X,y)"
   ]
  },
  {
   "cell_type": "code",
   "execution_count": 68,
   "metadata": {},
   "outputs": [
    {
     "name": "stdout",
     "output_type": "stream",
     "text": [
      "coefficient of determination: 0.966123026618024\n",
      "intercept: -50.87064149189169\n",
      "slope: [ 7.24726818 -0.01512244]\n"
     ]
    }
   ],
   "source": [
    "# > summary(mymod2)\n",
    "r_sq = model.score(X,y)\n",
    "print(f\"coefficient of determination: {r_sq}\")\n",
    "print(f\"intercept: {model.intercept_}\")\n",
    "print(f\"slope: {model.coef_}\")"
   ]
  },
  {
   "cell_type": "code",
   "execution_count": 69,
   "metadata": {},
   "outputs": [
    {
     "name": "stdout",
     "output_type": "stream",
     "text": [
      "predicted response:\n",
      "[ 93.46982457 122.3832851  129.94812451 144.50315063 166.15422054\n",
      " 202.36031656 238.70251455 245.90441541 274.9539779  296.62017024]\n",
      "input response:\n",
      "0    100\n",
      "1    120\n",
      "2    135\n",
      "3    150\n",
      "4    160\n",
      "5    190\n",
      "6    210\n",
      "7    260\n",
      "8    290\n",
      "9    300\n",
      "Name: y, dtype: int64\n"
     ]
    }
   ],
   "source": [
    "# > yhat = predict(mymod,dat)\n",
    "y_pred = model.predict(X)\n",
    "print(f\"predicted response:\\n{y_pred}\")\n",
    "print(f\"input response:\\n{y}\")"
   ]
  },
  {
   "cell_type": "code",
   "execution_count": 104,
   "metadata": {},
   "outputs": [
    {
     "name": "stdout",
     "output_type": "stream",
     "text": [
      "                            OLS Regression Results                            \n",
      "==============================================================================\n",
      "Dep. Variable:                      y   R-squared:                       0.967\n",
      "Model:                            OLS   Adj. R-squared:                  0.951\n",
      "Method:                 Least Squares   F-statistic:                     59.26\n",
      "Date:                Tue, 14 Jun 2022   Prob (F-statistic):           7.52e-05\n",
      "Time:                        15:43:21   Log-Likelihood:                -39.238\n",
      "No. Observations:                  10   AIC:                             86.48\n",
      "Df Residuals:                       6   BIC:                             87.69\n",
      "Df Model:                           3                                         \n",
      "Covariance Type:            nonrobust                                         \n",
      "==============================================================================\n",
      "                 coef    std err          t      P>|t|      [0.025      0.975]\n",
      "------------------------------------------------------------------------------\n",
      "Intercept    -88.7846     88.948     -0.998      0.357    -306.432     128.863\n",
      "AGE            8.7588      3.250      2.695      0.036       0.807      16.710\n",
      "BMI            1.5058      3.290      0.458      0.663      -6.543       9.555\n",
      "AGE:BMI       -0.0623      0.131     -0.476      0.651      -0.383       0.258\n",
      "==============================================================================\n",
      "Omnibus:                        9.217   Durbin-Watson:                   1.889\n",
      "Prob(Omnibus):                  0.010   Jarque-Bera (JB):                3.860\n",
      "Skew:                          -1.365   Prob(JB):                        0.145\n",
      "Kurtosis:                       4.347   Cond. No.                     1.59e+04\n",
      "==============================================================================\n",
      "\n",
      "Notes:\n",
      "[1] Standard Errors assume that the covariance matrix of the errors is correctly specified.\n",
      "[2] The condition number is large, 1.59e+04. This might indicate that there are\n",
      "strong multicollinearity or other numerical problems.\n"
     ]
    },
    {
     "name": "stderr",
     "output_type": "stream",
     "text": [
      "/home/users/hwangzi/tools/anaconda3/envs/study/lib/python3.6/site-packages/scipy/stats/stats.py:1394: UserWarning: kurtosistest only valid for n>=20 ... continuing anyway, n=10\n",
      "  \"anyway, n=%i\" % int(n))\n"
     ]
    }
   ],
   "source": [
    "# Using ols\n",
    "from statsmodels.formula.api import ols\n",
    "\n",
    "model = ols(\"y ~ AGE*BMI\", dat).fit()\n",
    "print(model.summary())"
   ]
  },
  {
   "cell_type": "markdown",
   "metadata": {},
   "source": [
    "<font size=\"4\">ANOVA using linear model</font>\n",
    "<br><font size=\"3\">일원분산분석</font>"
   ]
  },
  {
   "cell_type": "code",
   "execution_count": 106,
   "metadata": {},
   "outputs": [
    {
     "data": {
      "text/html": [
       "<div>\n",
       "<style scoped>\n",
       "    .dataframe tbody tr th:only-of-type {\n",
       "        vertical-align: middle;\n",
       "    }\n",
       "\n",
       "    .dataframe tbody tr th {\n",
       "        vertical-align: top;\n",
       "    }\n",
       "\n",
       "    .dataframe thead th {\n",
       "        text-align: right;\n",
       "    }\n",
       "</style>\n",
       "<table border=\"1\" class=\"dataframe\">\n",
       "  <thead>\n",
       "    <tr style=\"text-align: right;\">\n",
       "      <th></th>\n",
       "      <th>y</th>\n",
       "      <th>group</th>\n",
       "    </tr>\n",
       "  </thead>\n",
       "  <tbody>\n",
       "    <tr>\n",
       "      <th>0</th>\n",
       "      <td>100</td>\n",
       "      <td>mRNA1</td>\n",
       "    </tr>\n",
       "    <tr>\n",
       "      <th>1</th>\n",
       "      <td>90</td>\n",
       "      <td>mRNA1</td>\n",
       "    </tr>\n",
       "    <tr>\n",
       "      <th>2</th>\n",
       "      <td>105</td>\n",
       "      <td>mRNA1</td>\n",
       "    </tr>\n",
       "    <tr>\n",
       "      <th>3</th>\n",
       "      <td>83</td>\n",
       "      <td>mRNA1</td>\n",
       "    </tr>\n",
       "    <tr>\n",
       "      <th>4</th>\n",
       "      <td>78</td>\n",
       "      <td>mRNA1</td>\n",
       "    </tr>\n",
       "    <tr>\n",
       "      <th>5</th>\n",
       "      <td>95</td>\n",
       "      <td>mRNA2</td>\n",
       "    </tr>\n",
       "    <tr>\n",
       "      <th>6</th>\n",
       "      <td>93</td>\n",
       "      <td>mRNA2</td>\n",
       "    </tr>\n",
       "    <tr>\n",
       "      <th>7</th>\n",
       "      <td>79</td>\n",
       "      <td>mRNA2</td>\n",
       "    </tr>\n",
       "    <tr>\n",
       "      <th>8</th>\n",
       "      <td>85</td>\n",
       "      <td>mRNA2</td>\n",
       "    </tr>\n",
       "    <tr>\n",
       "      <th>9</th>\n",
       "      <td>90</td>\n",
       "      <td>mRNA2</td>\n",
       "    </tr>\n",
       "    <tr>\n",
       "      <th>10</th>\n",
       "      <td>70</td>\n",
       "      <td>mRNA3</td>\n",
       "    </tr>\n",
       "    <tr>\n",
       "      <th>11</th>\n",
       "      <td>72</td>\n",
       "      <td>mRNA3</td>\n",
       "    </tr>\n",
       "    <tr>\n",
       "      <th>12</th>\n",
       "      <td>81</td>\n",
       "      <td>mRNA3</td>\n",
       "    </tr>\n",
       "    <tr>\n",
       "      <th>13</th>\n",
       "      <td>74</td>\n",
       "      <td>mRNA3</td>\n",
       "    </tr>\n",
       "    <tr>\n",
       "      <th>14</th>\n",
       "      <td>75</td>\n",
       "      <td>mRNA3</td>\n",
       "    </tr>\n",
       "  </tbody>\n",
       "</table>\n",
       "</div>"
      ],
      "text/plain": [
       "      y  group\n",
       "0   100  mRNA1\n",
       "1    90  mRNA1\n",
       "2   105  mRNA1\n",
       "3    83  mRNA1\n",
       "4    78  mRNA1\n",
       "5    95  mRNA2\n",
       "6    93  mRNA2\n",
       "7    79  mRNA2\n",
       "8    85  mRNA2\n",
       "9    90  mRNA2\n",
       "10   70  mRNA3\n",
       "11   72  mRNA3\n",
       "12   81  mRNA3\n",
       "13   74  mRNA3\n",
       "14   75  mRNA3"
      ]
     },
     "execution_count": 106,
     "metadata": {},
     "output_type": "execute_result"
    }
   ],
   "source": [
    "# > mydat=data.frame(y=c(100,90,105,83,78,95,93,79,85,90,70,72,81,\n",
    "# +                      74,75),Group=factor(rep(c(\"mRNA1\",\"mRNA2\",\"mRNA3\"),each=5)))\n",
    "\n",
    "y = [100,90,105,83,78,95,93,79,85,90,70,72,81,74,75]\n",
    "group = np.concatenate([([i]*5) for i in [\"mRNA1\",\"mRNA2\",\"mRNA3\"]], axis=0)\n",
    "\n",
    "mydat = pd.DataFrame(zip(y,group), columns=[\"y\",\"group\"])\n",
    "mydat"
   ]
  },
  {
   "cell_type": "code",
   "execution_count": 121,
   "metadata": {},
   "outputs": [
    {
     "name": "stdout",
     "output_type": "stream",
     "text": [
      "                            OLS Regression Results                            \n",
      "==============================================================================\n",
      "Dep. Variable:                      y   R-squared:                       0.520\n",
      "Model:                            OLS   Adj. R-squared:                  0.440\n",
      "Method:                 Least Squares   F-statistic:                     6.505\n",
      "Date:                Tue, 14 Jun 2022   Prob (F-statistic):             0.0122\n",
      "Time:                        17:30:16   Log-Likelihood:                -50.596\n",
      "No. Observations:                  15   AIC:                             107.2\n",
      "Df Residuals:                      12   BIC:                             109.3\n",
      "Df Model:                           2                                         \n",
      "Covariance Type:            nonrobust                                         \n",
      "==================================================================================\n",
      "                     coef    std err          t      P>|t|      [0.025      0.975]\n",
      "----------------------------------------------------------------------------------\n",
      "Intercept         91.2000      3.529     25.844      0.000      83.511      98.889\n",
      "group[T.mRNA2]    -2.8000      4.991     -0.561      0.585     -13.674       8.074\n",
      "group[T.mRNA3]   -16.8000      4.991     -3.366      0.006     -27.674      -5.926\n",
      "==============================================================================\n",
      "Omnibus:                        0.012   Durbin-Watson:                   2.219\n",
      "Prob(Omnibus):                  0.994   Jarque-Bera (JB):                0.219\n",
      "Skew:                           0.031   Prob(JB):                        0.896\n",
      "Kurtosis:                       2.411   Cond. No.                         3.73\n",
      "==============================================================================\n",
      "\n",
      "Notes:\n",
      "[1] Standard Errors assume that the covariance matrix of the errors is correctly specified.\n"
     ]
    },
    {
     "name": "stderr",
     "output_type": "stream",
     "text": [
      "/home/users/hwangzi/tools/anaconda3/envs/study/lib/python3.6/site-packages/scipy/stats/stats.py:1394: UserWarning: kurtosistest only valid for n>=20 ... continuing anyway, n=15\n",
      "  \"anyway, n=%i\" % int(n))\n"
     ]
    }
   ],
   "source": [
    "from statsmodels.formula.api import ols\n",
    "\n",
    "# > my3 = lm(y~Group, data=mydat)\n",
    "# > summary(my3)\n",
    "\n",
    "model = ols(\"y ~ group\", mydat).fit()\n",
    "print(model.summary())\n",
    "\n",
    "# sklearn LinearRegression() 사용 시, variable이 string이라서 오류"
   ]
  },
  {
   "cell_type": "code",
   "execution_count": 122,
   "metadata": {},
   "outputs": [
    {
     "data": {
      "text/html": [
       "<div>\n",
       "<style scoped>\n",
       "    .dataframe tbody tr th:only-of-type {\n",
       "        vertical-align: middle;\n",
       "    }\n",
       "\n",
       "    .dataframe tbody tr th {\n",
       "        vertical-align: top;\n",
       "    }\n",
       "\n",
       "    .dataframe thead th {\n",
       "        text-align: right;\n",
       "    }\n",
       "</style>\n",
       "<table border=\"1\" class=\"dataframe\">\n",
       "  <thead>\n",
       "    <tr style=\"text-align: right;\">\n",
       "      <th></th>\n",
       "      <th>df</th>\n",
       "      <th>sum_sq</th>\n",
       "      <th>mean_sq</th>\n",
       "      <th>F</th>\n",
       "      <th>PR(&gt;F)</th>\n",
       "    </tr>\n",
       "  </thead>\n",
       "  <tbody>\n",
       "    <tr>\n",
       "      <th>group</th>\n",
       "      <td>2.0</td>\n",
       "      <td>810.133333</td>\n",
       "      <td>405.066667</td>\n",
       "      <td>6.505353</td>\n",
       "      <td>0.012199</td>\n",
       "    </tr>\n",
       "    <tr>\n",
       "      <th>Residual</th>\n",
       "      <td>12.0</td>\n",
       "      <td>747.200000</td>\n",
       "      <td>62.266667</td>\n",
       "      <td>NaN</td>\n",
       "      <td>NaN</td>\n",
       "    </tr>\n",
       "  </tbody>\n",
       "</table>\n",
       "</div>"
      ],
      "text/plain": [
       "            df      sum_sq     mean_sq         F    PR(>F)\n",
       "group      2.0  810.133333  405.066667  6.505353  0.012199\n",
       "Residual  12.0  747.200000   62.266667       NaN       NaN"
      ]
     },
     "execution_count": 122,
     "metadata": {},
     "output_type": "execute_result"
    }
   ],
   "source": [
    "import statsmodels.api as sm\n",
    "\n",
    "anova_table = sm.stats.anova_lm(model, typ=1) # typ 1 일원분산분석\n",
    "anova_table"
   ]
  },
  {
   "cell_type": "code",
   "execution_count": 110,
   "metadata": {},
   "outputs": [],
   "source": [
    "# Intercept is mean of mRNA1's values\n",
    "# group[T.mRNA2] is difference of mRNA1 mean and mRNA2 mean\n",
    "# group[T.mRNA3] is difference of mRNA1 mean and mRNA3 mean\n",
    "\n",
    "# F-statistic is affection of variables to y \n",
    "# Prob (F-statistic) is p-value (H0: my model is worse than model with just the intercept) -> p-value lower, variable have more affection"
   ]
  },
  {
   "cell_type": "markdown",
   "metadata": {},
   "source": [
    "<font size=\"4\">ANOVA using linear model</font>\n",
    "<br><font size=\"3\">이원분산분석</font>"
   ]
  },
  {
   "cell_type": "code",
   "execution_count": 117,
   "metadata": {},
   "outputs": [
    {
     "data": {
      "text/html": [
       "<div>\n",
       "<style scoped>\n",
       "    .dataframe tbody tr th:only-of-type {\n",
       "        vertical-align: middle;\n",
       "    }\n",
       "\n",
       "    .dataframe tbody tr th {\n",
       "        vertical-align: top;\n",
       "    }\n",
       "\n",
       "    .dataframe thead th {\n",
       "        text-align: right;\n",
       "    }\n",
       "</style>\n",
       "<table border=\"1\" class=\"dataframe\">\n",
       "  <thead>\n",
       "    <tr style=\"text-align: right;\">\n",
       "      <th></th>\n",
       "      <th>Group</th>\n",
       "      <th>Block</th>\n",
       "      <th>y</th>\n",
       "    </tr>\n",
       "  </thead>\n",
       "  <tbody>\n",
       "    <tr>\n",
       "      <th>0</th>\n",
       "      <td>mRNA1</td>\n",
       "      <td>array1</td>\n",
       "      <td>100</td>\n",
       "    </tr>\n",
       "    <tr>\n",
       "      <th>1</th>\n",
       "      <td>mRNA1</td>\n",
       "      <td>array2</td>\n",
       "      <td>90</td>\n",
       "    </tr>\n",
       "    <tr>\n",
       "      <th>2</th>\n",
       "      <td>mRNA1</td>\n",
       "      <td>array3</td>\n",
       "      <td>105</td>\n",
       "    </tr>\n",
       "    <tr>\n",
       "      <th>3</th>\n",
       "      <td>mRNA1</td>\n",
       "      <td>array4</td>\n",
       "      <td>83</td>\n",
       "    </tr>\n",
       "    <tr>\n",
       "      <th>4</th>\n",
       "      <td>mRNA1</td>\n",
       "      <td>array5</td>\n",
       "      <td>78</td>\n",
       "    </tr>\n",
       "    <tr>\n",
       "      <th>5</th>\n",
       "      <td>mRNA1</td>\n",
       "      <td>array6</td>\n",
       "      <td>93</td>\n",
       "    </tr>\n",
       "    <tr>\n",
       "      <th>6</th>\n",
       "      <td>mRNA2</td>\n",
       "      <td>array1</td>\n",
       "      <td>95</td>\n",
       "    </tr>\n",
       "    <tr>\n",
       "      <th>7</th>\n",
       "      <td>mRNA2</td>\n",
       "      <td>array2</td>\n",
       "      <td>93</td>\n",
       "    </tr>\n",
       "    <tr>\n",
       "      <th>8</th>\n",
       "      <td>mRNA2</td>\n",
       "      <td>array3</td>\n",
       "      <td>79</td>\n",
       "    </tr>\n",
       "    <tr>\n",
       "      <th>9</th>\n",
       "      <td>mRNA2</td>\n",
       "      <td>array4</td>\n",
       "      <td>85</td>\n",
       "    </tr>\n",
       "    <tr>\n",
       "      <th>10</th>\n",
       "      <td>mRNA2</td>\n",
       "      <td>array5</td>\n",
       "      <td>90</td>\n",
       "    </tr>\n",
       "    <tr>\n",
       "      <th>11</th>\n",
       "      <td>mRNA2</td>\n",
       "      <td>array6</td>\n",
       "      <td>102</td>\n",
       "    </tr>\n",
       "    <tr>\n",
       "      <th>12</th>\n",
       "      <td>mRNA3</td>\n",
       "      <td>array1</td>\n",
       "      <td>88</td>\n",
       "    </tr>\n",
       "    <tr>\n",
       "      <th>13</th>\n",
       "      <td>mRNA3</td>\n",
       "      <td>array2</td>\n",
       "      <td>85</td>\n",
       "    </tr>\n",
       "    <tr>\n",
       "      <th>14</th>\n",
       "      <td>mRNA3</td>\n",
       "      <td>array3</td>\n",
       "      <td>87</td>\n",
       "    </tr>\n",
       "    <tr>\n",
       "      <th>15</th>\n",
       "      <td>mRNA3</td>\n",
       "      <td>array4</td>\n",
       "      <td>83</td>\n",
       "    </tr>\n",
       "    <tr>\n",
       "      <th>16</th>\n",
       "      <td>mRNA3</td>\n",
       "      <td>array5</td>\n",
       "      <td>89</td>\n",
       "    </tr>\n",
       "    <tr>\n",
       "      <th>17</th>\n",
       "      <td>mRNA3</td>\n",
       "      <td>array6</td>\n",
       "      <td>75</td>\n",
       "    </tr>\n",
       "  </tbody>\n",
       "</table>\n",
       "</div>"
      ],
      "text/plain": [
       "    Group   Block    y\n",
       "0   mRNA1  array1  100\n",
       "1   mRNA1  array2   90\n",
       "2   mRNA1  array3  105\n",
       "3   mRNA1  array4   83\n",
       "4   mRNA1  array5   78\n",
       "5   mRNA1  array6   93\n",
       "6   mRNA2  array1   95\n",
       "7   mRNA2  array2   93\n",
       "8   mRNA2  array3   79\n",
       "9   mRNA2  array4   85\n",
       "10  mRNA2  array5   90\n",
       "11  mRNA2  array6  102\n",
       "12  mRNA3  array1   88\n",
       "13  mRNA3  array2   85\n",
       "14  mRNA3  array3   87\n",
       "15  mRNA3  array4   83\n",
       "16  mRNA3  array5   89\n",
       "17  mRNA3  array6   75"
      ]
     },
     "execution_count": 117,
     "metadata": {},
     "output_type": "execute_result"
    }
   ],
   "source": [
    "# Group=factor(rep(paste(\"mRNA\",1:3,sep=\"\"),each=6))\n",
    "# Block=factor(rep(paste(\"array\",1:6,sep=\"\"),3))\n",
    "# y=c(100,90,105,83,78,93,95,93,79,85,90,102,88,85,87,83,89,75)\n",
    "# md2<-data.frame(Group,Block,y)\n",
    "# md2\n",
    "\n",
    "group = np.concatenate([([i]*6) for i in [\"mRNA1\",\"mRNA2\",\"mRNA3\"]], axis=0)\n",
    "block = [i for i in [\"array1\",\"array2\",\"array3\",\"array4\",\"array5\",\"array6\"]]*3\n",
    "y = [100,90,105,83,78,93,95,93,79,85,90,102,88,85,87,83,89,75]\n",
    "\n",
    "md2 = pd.DataFrame(zip(group,block,y),columns=[\"Group\",\"Block\",\"y\"])\n",
    "md2"
   ]
  },
  {
   "cell_type": "code",
   "execution_count": 124,
   "metadata": {},
   "outputs": [
    {
     "name": "stdout",
     "output_type": "stream",
     "text": [
      "                            OLS Regression Results                            \n",
      "==============================================================================\n",
      "Dep. Variable:                      y   R-squared:                       0.340\n",
      "Model:                            OLS   Adj. R-squared:                 -0.122\n",
      "Method:                 Least Squares   F-statistic:                    0.7350\n",
      "Date:                Tue, 14 Jun 2022   Prob (F-statistic):              0.649\n",
      "Time:                        17:49:48   Log-Likelihood:                -59.155\n",
      "No. Observations:                  18   AIC:                             134.3\n",
      "Df Residuals:                      10   BIC:                             141.4\n",
      "Df Model:                           7                                         \n",
      "Covariance Type:            nonrobust                                         \n",
      "===================================================================================\n",
      "                      coef    std err          t      P>|t|      [0.025      0.975]\n",
      "-----------------------------------------------------------------------------------\n",
      "Intercept          96.9444      5.788     16.748      0.000      84.047     109.842\n",
      "Group[T.mRNA2]     -0.8333      5.013     -0.166      0.871     -12.003      10.336\n",
      "Group[T.mRNA3]     -7.0000      5.013     -1.396      0.193     -18.170       4.170\n",
      "Block[T.array2]    -5.0000      7.089     -0.705      0.497     -20.796      10.796\n",
      "Block[T.array3]    -4.0000      7.089     -0.564      0.585     -19.796      11.796\n",
      "Block[T.array4]   -10.6667      7.089     -1.505      0.163     -26.463       5.129\n",
      "Block[T.array5]    -8.6667      7.089     -1.222      0.250     -24.463       7.129\n",
      "Block[T.array6]    -4.3333      7.089     -0.611      0.555     -20.129      11.463\n",
      "==============================================================================\n",
      "Omnibus:                        0.467   Durbin-Watson:                   2.117\n",
      "Prob(Omnibus):                  0.792   Jarque-Bera (JB):                0.202\n",
      "Skew:                          -0.246   Prob(JB):                        0.904\n",
      "Kurtosis:                       2.833   Cond. No.                         7.57\n",
      "==============================================================================\n",
      "\n",
      "Notes:\n",
      "[1] Standard Errors assume that the covariance matrix of the errors is correctly specified.\n"
     ]
    },
    {
     "name": "stderr",
     "output_type": "stream",
     "text": [
      "/home/users/hwangzi/tools/anaconda3/envs/study/lib/python3.6/site-packages/scipy/stats/stats.py:1394: UserWarning: kurtosistest only valid for n>=20 ... continuing anyway, n=18\n",
      "  \"anyway, n=%i\" % int(n))\n"
     ]
    }
   ],
   "source": [
    "# my5=lm(y~Group+Block,data=md2)\n",
    "\n",
    "my5 = ols(\"y~Group+Block\",md2).fit()\n",
    "print(my5.summary())"
   ]
  },
  {
   "cell_type": "code",
   "execution_count": 119,
   "metadata": {},
   "outputs": [
    {
     "data": {
      "text/html": [
       "<div>\n",
       "<style scoped>\n",
       "    .dataframe tbody tr th:only-of-type {\n",
       "        vertical-align: middle;\n",
       "    }\n",
       "\n",
       "    .dataframe tbody tr th {\n",
       "        vertical-align: top;\n",
       "    }\n",
       "\n",
       "    .dataframe thead th {\n",
       "        text-align: right;\n",
       "    }\n",
       "</style>\n",
       "<table border=\"1\" class=\"dataframe\">\n",
       "  <thead>\n",
       "    <tr style=\"text-align: right;\">\n",
       "      <th></th>\n",
       "      <th>sum_sq</th>\n",
       "      <th>df</th>\n",
       "      <th>F</th>\n",
       "      <th>PR(&gt;F)</th>\n",
       "    </tr>\n",
       "  </thead>\n",
       "  <tbody>\n",
       "    <tr>\n",
       "      <th>Group</th>\n",
       "      <td>175.444444</td>\n",
       "      <td>2.0</td>\n",
       "      <td>1.163596</td>\n",
       "      <td>0.351301</td>\n",
       "    </tr>\n",
       "    <tr>\n",
       "      <th>Block</th>\n",
       "      <td>212.444444</td>\n",
       "      <td>5.0</td>\n",
       "      <td>0.563596</td>\n",
       "      <td>0.726427</td>\n",
       "    </tr>\n",
       "    <tr>\n",
       "      <th>Residual</th>\n",
       "      <td>753.888889</td>\n",
       "      <td>10.0</td>\n",
       "      <td>NaN</td>\n",
       "      <td>NaN</td>\n",
       "    </tr>\n",
       "  </tbody>\n",
       "</table>\n",
       "</div>"
      ],
      "text/plain": [
       "              sum_sq    df         F    PR(>F)\n",
       "Group     175.444444   2.0  1.163596  0.351301\n",
       "Block     212.444444   5.0  0.563596  0.726427\n",
       "Residual  753.888889  10.0       NaN       NaN"
      ]
     },
     "execution_count": 119,
     "metadata": {},
     "output_type": "execute_result"
    }
   ],
   "source": [
    "import statsmodels.api as sm\n",
    "\n",
    "anova_table = sm.stats.anova_lm(my5, typ=2) # typ 2 이원분산분석\n",
    "anova_table"
   ]
  }
 ],
 "metadata": {
  "interpreter": {
   "hash": "566fb2c1c9160c01852e5513f828d15ee98c6f3f907a2ced5d3699db4e348e6f"
  },
  "kernelspec": {
   "display_name": "Python 3.6.7 ('study')",
   "language": "python",
   "name": "python3"
  },
  "language_info": {
   "codemirror_mode": {
    "name": "ipython",
    "version": 3
   },
   "file_extension": ".py",
   "mimetype": "text/x-python",
   "name": "python",
   "nbconvert_exporter": "python",
   "pygments_lexer": "ipython3",
   "version": "3.6.7"
  },
  "orig_nbformat": 4
 },
 "nbformat": 4,
 "nbformat_minor": 2
}
